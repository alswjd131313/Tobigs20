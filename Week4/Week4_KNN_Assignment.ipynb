{
 "cells": [
  {
   "cell_type": "markdown",
   "metadata": {
    "id": "_PTZ7GaPe4PF"
   },
   "source": [
    "# 20기 KNN 정규세션 과제"
   ]
  },
  {
   "cell_type": "markdown",
   "metadata": {
    "id": "k_IkS8Ybe4PI"
   },
   "source": [
    "**데이터:** [blackfriday | Kaggle](https://www.kaggle.com/llopesolivei/blackfriday)"
   ]
  },
  {
   "cell_type": "markdown",
   "metadata": {
    "id": "ZvUdeo2he4PI"
   },
   "source": [
    "---"
   ]
  },
  {
   "cell_type": "markdown",
   "metadata": {
    "id": "lTlQgiSie4PI"
   },
   "source": [
    "## 0. 데이터 불러오기"
   ]
  },
  {
   "cell_type": "code",
   "execution_count": 199,
   "metadata": {
    "id": "eNTRK8Ete4PJ",
    "outputId": "de247747-4645-49a6-c5d2-38cc1a381d42"
   },
   "outputs": [
    {
     "data": {
      "text/html": [
       "<div>\n",
       "<style scoped>\n",
       "    .dataframe tbody tr th:only-of-type {\n",
       "        vertical-align: middle;\n",
       "    }\n",
       "\n",
       "    .dataframe tbody tr th {\n",
       "        vertical-align: top;\n",
       "    }\n",
       "\n",
       "    .dataframe thead th {\n",
       "        text-align: right;\n",
       "    }\n",
       "</style>\n",
       "<table border=\"1\" class=\"dataframe\">\n",
       "  <thead>\n",
       "    <tr style=\"text-align: right;\">\n",
       "      <th></th>\n",
       "      <th>User_ID</th>\n",
       "      <th>Product_ID</th>\n",
       "      <th>Gender</th>\n",
       "      <th>Age</th>\n",
       "      <th>Occupation</th>\n",
       "      <th>City_Category</th>\n",
       "      <th>Stay_In_Current_City_Years</th>\n",
       "      <th>Marital_Status</th>\n",
       "      <th>Product_Category_1</th>\n",
       "      <th>Product_Category_2</th>\n",
       "      <th>Product_Category_3</th>\n",
       "      <th>Purchase</th>\n",
       "    </tr>\n",
       "  </thead>\n",
       "  <tbody>\n",
       "    <tr>\n",
       "      <th>0</th>\n",
       "      <td>1001088</td>\n",
       "      <td>P00046042</td>\n",
       "      <td>F</td>\n",
       "      <td>0-17</td>\n",
       "      <td>10</td>\n",
       "      <td>A</td>\n",
       "      <td>3</td>\n",
       "      <td>0</td>\n",
       "      <td>5</td>\n",
       "      <td>17.0</td>\n",
       "      <td>NaN</td>\n",
       "      <td>2010</td>\n",
       "    </tr>\n",
       "    <tr>\n",
       "      <th>1</th>\n",
       "      <td>1004493</td>\n",
       "      <td>P00347742</td>\n",
       "      <td>F</td>\n",
       "      <td>0-17</td>\n",
       "      <td>10</td>\n",
       "      <td>A</td>\n",
       "      <td>1</td>\n",
       "      <td>0</td>\n",
       "      <td>7</td>\n",
       "      <td>NaN</td>\n",
       "      <td>NaN</td>\n",
       "      <td>4483</td>\n",
       "    </tr>\n",
       "    <tr>\n",
       "      <th>2</th>\n",
       "      <td>1005302</td>\n",
       "      <td>P00048942</td>\n",
       "      <td>F</td>\n",
       "      <td>0-17</td>\n",
       "      <td>10</td>\n",
       "      <td>A</td>\n",
       "      <td>1</td>\n",
       "      <td>0</td>\n",
       "      <td>1</td>\n",
       "      <td>4.0</td>\n",
       "      <td>NaN</td>\n",
       "      <td>7696</td>\n",
       "    </tr>\n",
       "    <tr>\n",
       "      <th>3</th>\n",
       "      <td>1001348</td>\n",
       "      <td>P00145242</td>\n",
       "      <td>F</td>\n",
       "      <td>0-17</td>\n",
       "      <td>10</td>\n",
       "      <td>A</td>\n",
       "      <td>3</td>\n",
       "      <td>0</td>\n",
       "      <td>2</td>\n",
       "      <td>4.0</td>\n",
       "      <td>NaN</td>\n",
       "      <td>16429</td>\n",
       "    </tr>\n",
       "    <tr>\n",
       "      <th>4</th>\n",
       "      <td>1001348</td>\n",
       "      <td>P00106742</td>\n",
       "      <td>F</td>\n",
       "      <td>0-17</td>\n",
       "      <td>10</td>\n",
       "      <td>A</td>\n",
       "      <td>3</td>\n",
       "      <td>0</td>\n",
       "      <td>3</td>\n",
       "      <td>5.0</td>\n",
       "      <td>NaN</td>\n",
       "      <td>5780</td>\n",
       "    </tr>\n",
       "  </tbody>\n",
       "</table>\n",
       "</div>"
      ],
      "text/plain": [
       "   User_ID Product_ID Gender   Age  Occupation City_Category  \\\n",
       "0  1001088  P00046042      F  0-17          10             A   \n",
       "1  1004493  P00347742      F  0-17          10             A   \n",
       "2  1005302  P00048942      F  0-17          10             A   \n",
       "3  1001348  P00145242      F  0-17          10             A   \n",
       "4  1001348  P00106742      F  0-17          10             A   \n",
       "\n",
       "  Stay_In_Current_City_Years  Marital_Status  Product_Category_1  \\\n",
       "0                          3               0                   5   \n",
       "1                          1               0                   7   \n",
       "2                          1               0                   1   \n",
       "3                          3               0                   2   \n",
       "4                          3               0                   3   \n",
       "\n",
       "   Product_Category_2  Product_Category_3  Purchase  \n",
       "0                17.0                 NaN      2010  \n",
       "1                 NaN                 NaN      4483  \n",
       "2                 4.0                 NaN      7696  \n",
       "3                 4.0                 NaN     16429  \n",
       "4                 5.0                 NaN      5780  "
      ]
     },
     "execution_count": 199,
     "metadata": {},
     "output_type": "execute_result"
    }
   ],
   "source": [
    "import pandas as pd\n",
    "import numpy as np\n",
    "import matplotlib.pyplot as plt\n",
    "import seaborn as sns\n",
    "\n",
    "df = pd.read_csv(\"C:/Users/MJHwang/Downloads/blackfriday.csv\", index_col = 0)\n",
    "df.head()"
   ]
  },
  {
   "cell_type": "markdown",
   "metadata": {},
   "source": [
    "## 1. Preprocssing / EDA"
   ]
  },
  {
   "cell_type": "code",
   "execution_count": 200,
   "metadata": {},
   "outputs": [
    {
     "name": "stdout",
     "output_type": "stream",
     "text": [
      "<class 'pandas.core.frame.DataFrame'>\n",
      "Int64Index: 4998 entries, 0 to 4997\n",
      "Data columns (total 12 columns):\n",
      " #   Column                      Non-Null Count  Dtype  \n",
      "---  ------                      --------------  -----  \n",
      " 0   User_ID                     4998 non-null   int64  \n",
      " 1   Product_ID                  4998 non-null   object \n",
      " 2   Gender                      4998 non-null   object \n",
      " 3   Age                         4998 non-null   object \n",
      " 4   Occupation                  4998 non-null   int64  \n",
      " 5   City_Category               4998 non-null   object \n",
      " 6   Stay_In_Current_City_Years  4998 non-null   object \n",
      " 7   Marital_Status              4998 non-null   int64  \n",
      " 8   Product_Category_1          4998 non-null   int64  \n",
      " 9   Product_Category_2          3465 non-null   float64\n",
      " 10  Product_Category_3          1544 non-null   float64\n",
      " 11  Purchase                    4998 non-null   int64  \n",
      "dtypes: float64(2), int64(5), object(5)\n",
      "memory usage: 507.6+ KB\n"
     ]
    }
   ],
   "source": [
    "df.info()"
   ]
  },
  {
   "cell_type": "code",
   "execution_count": 201,
   "metadata": {},
   "outputs": [
    {
     "data": {
      "text/plain": [
       "(4998, 12)"
      ]
     },
     "execution_count": 201,
     "metadata": {},
     "output_type": "execute_result"
    }
   ],
   "source": [
    "df.shape"
   ]
  },
  {
   "cell_type": "code",
   "execution_count": 202,
   "metadata": {},
   "outputs": [
    {
     "data": {
      "text/plain": [
       "User_ID                          0\n",
       "Product_ID                       0\n",
       "Gender                           0\n",
       "Age                              0\n",
       "Occupation                       0\n",
       "City_Category                    0\n",
       "Stay_In_Current_City_Years       0\n",
       "Marital_Status                   0\n",
       "Product_Category_1               0\n",
       "Product_Category_2            1533\n",
       "Product_Category_3            3454\n",
       "Purchase                         0\n",
       "dtype: int64"
      ]
     },
     "execution_count": 202,
     "metadata": {},
     "output_type": "execute_result"
    }
   ],
   "source": [
    "df.isna().sum() # 결측치 존재"
   ]
  },
  {
   "cell_type": "code",
   "execution_count": 203,
   "metadata": {},
   "outputs": [],
   "source": [
    "df.drop(['Product_Category_3'], axis=1, inplace=True) # 결측치의 개수가 너무 많아 제거"
   ]
  },
  {
   "cell_type": "code",
   "execution_count": 204,
   "metadata": {},
   "outputs": [
    {
     "data": {
      "text/plain": [
       "1797"
      ]
     },
     "execution_count": 204,
     "metadata": {},
     "output_type": "execute_result"
    }
   ],
   "source": [
    "df['Product_ID'].nunique()"
   ]
  },
  {
   "cell_type": "code",
   "execution_count": 205,
   "metadata": {},
   "outputs": [
    {
     "data": {
      "text/html": [
       "<div>\n",
       "<style scoped>\n",
       "    .dataframe tbody tr th:only-of-type {\n",
       "        vertical-align: middle;\n",
       "    }\n",
       "\n",
       "    .dataframe tbody tr th {\n",
       "        vertical-align: top;\n",
       "    }\n",
       "\n",
       "    .dataframe thead th {\n",
       "        text-align: right;\n",
       "    }\n",
       "</style>\n",
       "<table border=\"1\" class=\"dataframe\">\n",
       "  <thead>\n",
       "    <tr style=\"text-align: right;\">\n",
       "      <th></th>\n",
       "      <th>User_ID</th>\n",
       "      <th>Occupation</th>\n",
       "      <th>Marital_Status</th>\n",
       "      <th>Product_Category_1</th>\n",
       "      <th>Product_Category_2</th>\n",
       "      <th>Purchase</th>\n",
       "    </tr>\n",
       "  </thead>\n",
       "  <tbody>\n",
       "    <tr>\n",
       "      <th>count</th>\n",
       "      <td>4.998000e+03</td>\n",
       "      <td>4998.000000</td>\n",
       "      <td>4998.000000</td>\n",
       "      <td>4998.000000</td>\n",
       "      <td>3465.000000</td>\n",
       "      <td>4998.000000</td>\n",
       "    </tr>\n",
       "    <tr>\n",
       "      <th>mean</th>\n",
       "      <td>1.003015e+06</td>\n",
       "      <td>8.036815</td>\n",
       "      <td>0.421369</td>\n",
       "      <td>5.320128</td>\n",
       "      <td>9.773737</td>\n",
       "      <td>9234.655462</td>\n",
       "    </tr>\n",
       "    <tr>\n",
       "      <th>std</th>\n",
       "      <td>1.709910e+03</td>\n",
       "      <td>6.442697</td>\n",
       "      <td>0.493828</td>\n",
       "      <td>3.912281</td>\n",
       "      <td>5.101867</td>\n",
       "      <td>4999.225081</td>\n",
       "    </tr>\n",
       "    <tr>\n",
       "      <th>min</th>\n",
       "      <td>1.000003e+06</td>\n",
       "      <td>0.000000</td>\n",
       "      <td>0.000000</td>\n",
       "      <td>1.000000</td>\n",
       "      <td>2.000000</td>\n",
       "      <td>13.000000</td>\n",
       "    </tr>\n",
       "    <tr>\n",
       "      <th>25%</th>\n",
       "      <td>1.001560e+06</td>\n",
       "      <td>2.000000</td>\n",
       "      <td>0.000000</td>\n",
       "      <td>1.000000</td>\n",
       "      <td>5.000000</td>\n",
       "      <td>5497.750000</td>\n",
       "    </tr>\n",
       "    <tr>\n",
       "      <th>50%</th>\n",
       "      <td>1.003040e+06</td>\n",
       "      <td>7.000000</td>\n",
       "      <td>0.000000</td>\n",
       "      <td>5.000000</td>\n",
       "      <td>9.000000</td>\n",
       "      <td>8049.000000</td>\n",
       "    </tr>\n",
       "    <tr>\n",
       "      <th>75%</th>\n",
       "      <td>1.004417e+06</td>\n",
       "      <td>14.000000</td>\n",
       "      <td>1.000000</td>\n",
       "      <td>8.000000</td>\n",
       "      <td>15.000000</td>\n",
       "      <td>12039.000000</td>\n",
       "    </tr>\n",
       "    <tr>\n",
       "      <th>max</th>\n",
       "      <td>1.006037e+06</td>\n",
       "      <td>20.000000</td>\n",
       "      <td>1.000000</td>\n",
       "      <td>20.000000</td>\n",
       "      <td>18.000000</td>\n",
       "      <td>23913.000000</td>\n",
       "    </tr>\n",
       "  </tbody>\n",
       "</table>\n",
       "</div>"
      ],
      "text/plain": [
       "            User_ID   Occupation  Marital_Status  Product_Category_1  \\\n",
       "count  4.998000e+03  4998.000000     4998.000000         4998.000000   \n",
       "mean   1.003015e+06     8.036815        0.421369            5.320128   \n",
       "std    1.709910e+03     6.442697        0.493828            3.912281   \n",
       "min    1.000003e+06     0.000000        0.000000            1.000000   \n",
       "25%    1.001560e+06     2.000000        0.000000            1.000000   \n",
       "50%    1.003040e+06     7.000000        0.000000            5.000000   \n",
       "75%    1.004417e+06    14.000000        1.000000            8.000000   \n",
       "max    1.006037e+06    20.000000        1.000000           20.000000   \n",
       "\n",
       "       Product_Category_2      Purchase  \n",
       "count         3465.000000   4998.000000  \n",
       "mean             9.773737   9234.655462  \n",
       "std              5.101867   4999.225081  \n",
       "min              2.000000     13.000000  \n",
       "25%              5.000000   5497.750000  \n",
       "50%              9.000000   8049.000000  \n",
       "75%             15.000000  12039.000000  \n",
       "max             18.000000  23913.000000  "
      ]
     },
     "execution_count": 205,
     "metadata": {},
     "output_type": "execute_result"
    }
   ],
   "source": [
    "df.describe()"
   ]
  },
  {
   "cell_type": "code",
   "execution_count": 206,
   "metadata": {},
   "outputs": [
    {
     "name": "stdout",
     "output_type": "stream",
     "text": [
      "1002063    12\n",
      "1005795    12\n",
      "1001980    11\n",
      "1004344    11\n",
      "1006036    10\n",
      "           ..\n",
      "1004980     1\n",
      "1004385     1\n",
      "1004138     1\n",
      "1002648     1\n",
      "1000837     1\n",
      "Name: User_ID, Length: 2656, dtype: int64\n",
      "**************************************************\n",
      "P00265242    21\n",
      "P00220442    16\n",
      "P00114942    15\n",
      "P00010742    15\n",
      "P00148642    15\n",
      "             ..\n",
      "P00072342     1\n",
      "P00037842     1\n",
      "P00207042     1\n",
      "P00129742     1\n",
      "P00358242     1\n",
      "Name: Product_ID, Length: 1797, dtype: int64\n",
      "**************************************************\n",
      "M    3765\n",
      "F    1233\n",
      "Name: Gender, dtype: int64\n",
      "**************************************************\n",
      "26-35    1996\n",
      "36-45    1000\n",
      "18-25     906\n",
      "46-50     414\n",
      "51-55     350\n",
      "55+       195\n",
      "0-17      137\n",
      "Name: Age, dtype: int64\n",
      "**************************************************\n",
      "4     706\n",
      "0     572\n",
      "7     535\n",
      "1     460\n",
      "17    339\n",
      "12    305\n",
      "20    285\n",
      "2     251\n",
      "14    245\n",
      "16    244\n",
      "6     186\n",
      "3     160\n",
      "15    133\n",
      "10    122\n",
      "5      98\n",
      "11     95\n",
      "19     73\n",
      "13     65\n",
      "18     56\n",
      "9      50\n",
      "8      18\n",
      "Name: Occupation, dtype: int64\n",
      "**************************************************\n",
      "B    2102\n",
      "C    1555\n",
      "A    1341\n",
      "Name: City_Category, dtype: int64\n",
      "**************************************************\n",
      "1     1758\n",
      "2      915\n",
      "3      908\n",
      "4+     742\n",
      "0      675\n",
      "Name: Stay_In_Current_City_Years, dtype: int64\n",
      "**************************************************\n",
      "0    2892\n",
      "1    2106\n",
      "Name: Marital_Status, dtype: int64\n",
      "**************************************************\n",
      "5     1407\n",
      "1     1285\n",
      "8      995\n",
      "2      227\n",
      "11     206\n",
      "3      193\n",
      "6      193\n",
      "4      107\n",
      "16      78\n",
      "15      57\n",
      "13      43\n",
      "10      41\n",
      "7       40\n",
      "12      31\n",
      "20      31\n",
      "19      20\n",
      "14      19\n",
      "18      18\n",
      "17       6\n",
      "9        1\n",
      "Name: Product_Category_1, dtype: int64\n",
      "**************************************************\n",
      "8.0     588\n",
      "14.0    496\n",
      "2.0     448\n",
      "16.0    392\n",
      "15.0    345\n",
      "5.0     258\n",
      "4.0     246\n",
      "6.0     148\n",
      "17.0    132\n",
      "11.0    110\n",
      "13.0    102\n",
      "9.0      65\n",
      "12.0     40\n",
      "3.0      35\n",
      "10.0     30\n",
      "18.0     23\n",
      "7.0       7\n",
      "Name: Product_Category_2, dtype: int64\n",
      "**************************************************\n",
      "7001     6\n",
      "7063     6\n",
      "5328     6\n",
      "8115     6\n",
      "7176     5\n",
      "        ..\n",
      "12069    1\n",
      "16668    1\n",
      "3187     1\n",
      "4043     1\n",
      "1413     1\n",
      "Name: Purchase, Length: 3736, dtype: int64\n",
      "**************************************************\n"
     ]
    }
   ],
   "source": [
    "for col in df.columns:\n",
    "    print(df[col].value_counts())\n",
    "    print('*' * 50)"
   ]
  },
  {
   "cell_type": "code",
   "execution_count": 207,
   "metadata": {},
   "outputs": [
    {
     "data": {
      "text/plain": [
       "Index(['User_ID', 'Product_ID', 'Gender', 'Age', 'Occupation', 'City_Category',\n",
       "       'Stay_In_Current_City_Years', 'Marital_Status', 'Product_Category_1',\n",
       "       'Product_Category_2', 'Purchase'],\n",
       "      dtype='object')"
      ]
     },
     "execution_count": 207,
     "metadata": {},
     "output_type": "execute_result"
    }
   ],
   "source": [
    "df.columns"
   ]
  },
  {
   "cell_type": "code",
   "execution_count": 208,
   "metadata": {},
   "outputs": [
    {
     "name": "stderr",
     "output_type": "stream",
     "text": [
      "C:\\Users\\MJHwang\\anaconda3\\lib\\site-packages\\seaborn\\_decorators.py:36: FutureWarning: Pass the following variable as a keyword arg: x. From version 0.12, the only valid positional argument will be `data`, and passing other arguments without an explicit keyword will result in an error or misinterpretation.\n",
      "  warnings.warn(\n"
     ]
    },
    {
     "data": {
      "text/plain": [
       "<AxesSubplot:xlabel='Marital_Status', ylabel='count'>"
      ]
     },
     "execution_count": 208,
     "metadata": {},
     "output_type": "execute_result"
    },
    {
     "data": {
      "image/png": "[encoded data removed]",
      "text/plain": [
       "<Figure size 432x288 with 1 Axes>"
      ]
     },
     "metadata": {
      "needs_background": "light"
     },
     "output_type": "display_data"
    }
   ],
   "source": [
    "sns.countplot(df['Marital_Status'])"
   ]
  },
  {
   "cell_type": "code",
   "execution_count": 209,
   "metadata": {},
   "outputs": [
    {
     "name": "stderr",
     "output_type": "stream",
     "text": [
      "C:\\Users\\MJHwang\\anaconda3\\lib\\site-packages\\seaborn\\_decorators.py:36: FutureWarning: Pass the following variable as a keyword arg: x. From version 0.12, the only valid positional argument will be `data`, and passing other arguments without an explicit keyword will result in an error or misinterpretation.\n",
      "  warnings.warn(\n"
     ]
    },
    {
     "data": {
      "text/plain": [
       "<AxesSubplot:xlabel='Product_Category_2', ylabel='count'>"
      ]
     },
     "execution_count": 209,
     "metadata": {},
     "output_type": "execute_result"
    },
    {
     "data": {
      "image/png": "[encoded data removed]",
      "text/plain": [
       "<Figure size 432x288 with 1 Axes>"
      ]
     },
     "metadata": {
      "needs_background": "light"
     },
     "output_type": "display_data"
    }
   ],
   "source": [
    "sns.countplot(df['Product_Category_2'])"
   ]
  },
  {
   "cell_type": "code",
   "execution_count": 210,
   "metadata": {},
   "outputs": [
    {
     "name": "stderr",
     "output_type": "stream",
     "text": [
      "C:\\Users\\MJHwang\\anaconda3\\lib\\site-packages\\seaborn\\_decorators.py:36: FutureWarning: Pass the following variable as a keyword arg: x. From version 0.12, the only valid positional argument will be `data`, and passing other arguments without an explicit keyword will result in an error or misinterpretation.\n",
      "  warnings.warn(\n"
     ]
    },
    {
     "data": {
      "text/plain": [
       "<AxesSubplot:xlabel='Age', ylabel='count'>"
      ]
     },
     "execution_count": 210,
     "metadata": {},
     "output_type": "execute_result"
    },
    {
     "data": {
      "image/png": "[encoded data removed]",
      "text/plain": [
       "<Figure size 432x288 with 1 Axes>"
      ]
     },
     "metadata": {
      "needs_background": "light"
     },
     "output_type": "display_data"
    }
   ],
   "source": [
    "sns.countplot(df['Age'])"
   ]
  },
  {
   "cell_type": "code",
   "execution_count": 211,
   "metadata": {},
   "outputs": [
    {
     "data": {
      "text/plain": [
       "<AxesSubplot:>"
      ]
     },
     "execution_count": 211,
     "metadata": {},
     "output_type": "execute_result"
    },
    {
     "data": {
      "image/png": "[encoded data removed]",
      "text/plain": [
       "<Figure size 576x432 with 1 Axes>"
      ]
     },
     "metadata": {
      "needs_background": "light"
     },
     "output_type": "display_data"
    }
   ],
   "source": [
    "df[['Product_Category_2']].boxplot(figsize=(8, 6))"
   ]
  },
  {
   "cell_type": "markdown",
   "metadata": {},
   "source": [
    "Product_Category_2의 평균 = 9.77373, 최빈값: 8"
   ]
  },
  {
   "cell_type": "code",
   "execution_count": 212,
   "metadata": {},
   "outputs": [
    {
     "name": "stderr",
     "output_type": "stream",
     "text": [
      "C:\\Users\\MJHwang\\anaconda3\\lib\\site-packages\\sklearn\\impute\\_base.py:49: FutureWarning: Unlike other reduction functions (e.g. `skew`, `kurtosis`), the default behavior of `mode` typically preserves the axis it acts along. In SciPy 1.11.0, this behavior will change: the default value of `keepdims` will become False, the `axis` over which the statistic is taken will be eliminated, and the value None will no longer be accepted. Set `keepdims` to True or False to avoid this warning.\n",
      "  mode = stats.mode(array)\n"
     ]
    }
   ],
   "source": [
    "from sklearn.impute import SimpleImputer\n",
    "imputer = SimpleImputer(strategy='most_frequent')\n",
    "df[['Product_Category_2']] = imputer.fit_transform(df[['Product_Category_2']])\n",
    "# 최빈값으로 결측치 대체"
   ]
  },
  {
   "cell_type": "code",
   "execution_count": 213,
   "metadata": {},
   "outputs": [
    {
     "data": {
      "text/plain": [
       "User_ID                       0\n",
       "Product_ID                    0\n",
       "Gender                        0\n",
       "Age                           0\n",
       "Occupation                    0\n",
       "City_Category                 0\n",
       "Stay_In_Current_City_Years    0\n",
       "Marital_Status                0\n",
       "Product_Category_1            0\n",
       "Product_Category_2            0\n",
       "Purchase                      0\n",
       "dtype: int64"
      ]
     },
     "execution_count": 213,
     "metadata": {},
     "output_type": "execute_result"
    }
   ],
   "source": [
    "df.isnull().sum()"
   ]
  },
  {
   "cell_type": "code",
   "execution_count": 214,
   "metadata": {},
   "outputs": [],
   "source": [
    "df.drop(['User_ID', 'Product_ID'], axis=1, inplace=True) \n",
    "# 인코딩을 진행해 분석에 사용하기보단 제거하는 게 더 나을 거라 판단"
   ]
  },
  {
   "cell_type": "code",
   "execution_count": 215,
   "metadata": {},
   "outputs": [
    {
     "name": "stdout",
     "output_type": "stream",
     "text": [
      "<class 'pandas.core.frame.DataFrame'>\n",
      "Int64Index: 4998 entries, 0 to 4997\n",
      "Data columns (total 9 columns):\n",
      " #   Column                      Non-Null Count  Dtype  \n",
      "---  ------                      --------------  -----  \n",
      " 0   Gender                      4998 non-null   object \n",
      " 1   Age                         4998 non-null   object \n",
      " 2   Occupation                  4998 non-null   int64  \n",
      " 3   City_Category               4998 non-null   object \n",
      " 4   Stay_In_Current_City_Years  4998 non-null   object \n",
      " 5   Marital_Status              4998 non-null   int64  \n",
      " 6   Product_Category_1          4998 non-null   int64  \n",
      " 7   Product_Category_2          4998 non-null   float64\n",
      " 8   Purchase                    4998 non-null   int64  \n",
      "dtypes: float64(1), int64(4), object(4)\n",
      "memory usage: 390.5+ KB\n"
     ]
    }
   ],
   "source": [
    "df.info()"
   ]
  },
  {
   "cell_type": "code",
   "execution_count": 216,
   "metadata": {
    "scrolled": true
   },
   "outputs": [
    {
     "data": {
      "text/html": [
       "<div>\n",
       "<style scoped>\n",
       "    .dataframe tbody tr th:only-of-type {\n",
       "        vertical-align: middle;\n",
       "    }\n",
       "\n",
       "    .dataframe tbody tr th {\n",
       "        vertical-align: top;\n",
       "    }\n",
       "\n",
       "    .dataframe thead th {\n",
       "        text-align: right;\n",
       "    }\n",
       "</style>\n",
       "<table border=\"1\" class=\"dataframe\">\n",
       "  <thead>\n",
       "    <tr style=\"text-align: right;\">\n",
       "      <th></th>\n",
       "      <th>Gender</th>\n",
       "      <th>Age</th>\n",
       "      <th>Occupation</th>\n",
       "      <th>City_Category</th>\n",
       "      <th>Stay_In_Current_City_Years</th>\n",
       "      <th>Marital_Status</th>\n",
       "      <th>Product_Category_1</th>\n",
       "      <th>Product_Category_2</th>\n",
       "      <th>Purchase</th>\n",
       "    </tr>\n",
       "  </thead>\n",
       "  <tbody>\n",
       "    <tr>\n",
       "      <th>0</th>\n",
       "      <td>F</td>\n",
       "      <td>0-17</td>\n",
       "      <td>10</td>\n",
       "      <td>A</td>\n",
       "      <td>3</td>\n",
       "      <td>0</td>\n",
       "      <td>5</td>\n",
       "      <td>17.0</td>\n",
       "      <td>2010</td>\n",
       "    </tr>\n",
       "    <tr>\n",
       "      <th>1</th>\n",
       "      <td>F</td>\n",
       "      <td>0-17</td>\n",
       "      <td>10</td>\n",
       "      <td>A</td>\n",
       "      <td>1</td>\n",
       "      <td>0</td>\n",
       "      <td>7</td>\n",
       "      <td>8.0</td>\n",
       "      <td>4483</td>\n",
       "    </tr>\n",
       "    <tr>\n",
       "      <th>2</th>\n",
       "      <td>F</td>\n",
       "      <td>0-17</td>\n",
       "      <td>10</td>\n",
       "      <td>A</td>\n",
       "      <td>1</td>\n",
       "      <td>0</td>\n",
       "      <td>1</td>\n",
       "      <td>4.0</td>\n",
       "      <td>7696</td>\n",
       "    </tr>\n",
       "    <tr>\n",
       "      <th>3</th>\n",
       "      <td>F</td>\n",
       "      <td>0-17</td>\n",
       "      <td>10</td>\n",
       "      <td>A</td>\n",
       "      <td>3</td>\n",
       "      <td>0</td>\n",
       "      <td>2</td>\n",
       "      <td>4.0</td>\n",
       "      <td>16429</td>\n",
       "    </tr>\n",
       "    <tr>\n",
       "      <th>4</th>\n",
       "      <td>F</td>\n",
       "      <td>0-17</td>\n",
       "      <td>10</td>\n",
       "      <td>A</td>\n",
       "      <td>3</td>\n",
       "      <td>0</td>\n",
       "      <td>3</td>\n",
       "      <td>5.0</td>\n",
       "      <td>5780</td>\n",
       "    </tr>\n",
       "    <tr>\n",
       "      <th>...</th>\n",
       "      <td>...</td>\n",
       "      <td>...</td>\n",
       "      <td>...</td>\n",
       "      <td>...</td>\n",
       "      <td>...</td>\n",
       "      <td>...</td>\n",
       "      <td>...</td>\n",
       "      <td>...</td>\n",
       "      <td>...</td>\n",
       "    </tr>\n",
       "    <tr>\n",
       "      <th>4993</th>\n",
       "      <td>M</td>\n",
       "      <td>55+</td>\n",
       "      <td>7</td>\n",
       "      <td>C</td>\n",
       "      <td>1</td>\n",
       "      <td>1</td>\n",
       "      <td>1</td>\n",
       "      <td>16.0</td>\n",
       "      <td>11701</td>\n",
       "    </tr>\n",
       "    <tr>\n",
       "      <th>4994</th>\n",
       "      <td>M</td>\n",
       "      <td>55+</td>\n",
       "      <td>1</td>\n",
       "      <td>C</td>\n",
       "      <td>1</td>\n",
       "      <td>1</td>\n",
       "      <td>8</td>\n",
       "      <td>8.0</td>\n",
       "      <td>2045</td>\n",
       "    </tr>\n",
       "    <tr>\n",
       "      <th>4995</th>\n",
       "      <td>M</td>\n",
       "      <td>55+</td>\n",
       "      <td>13</td>\n",
       "      <td>C</td>\n",
       "      <td>3</td>\n",
       "      <td>1</td>\n",
       "      <td>1</td>\n",
       "      <td>6.0</td>\n",
       "      <td>4505</td>\n",
       "    </tr>\n",
       "    <tr>\n",
       "      <th>4996</th>\n",
       "      <td>M</td>\n",
       "      <td>55+</td>\n",
       "      <td>0</td>\n",
       "      <td>C</td>\n",
       "      <td>2</td>\n",
       "      <td>1</td>\n",
       "      <td>12</td>\n",
       "      <td>8.0</td>\n",
       "      <td>1413</td>\n",
       "    </tr>\n",
       "    <tr>\n",
       "      <th>4997</th>\n",
       "      <td>M</td>\n",
       "      <td>55+</td>\n",
       "      <td>6</td>\n",
       "      <td>C</td>\n",
       "      <td>0</td>\n",
       "      <td>1</td>\n",
       "      <td>5</td>\n",
       "      <td>14.0</td>\n",
       "      <td>7182</td>\n",
       "    </tr>\n",
       "  </tbody>\n",
       "</table>\n",
       "<p>4998 rows × 9 columns</p>\n",
       "</div>"
      ],
      "text/plain": [
       "     Gender   Age  Occupation City_Category Stay_In_Current_City_Years  \\\n",
       "0         F  0-17          10             A                          3   \n",
       "1         F  0-17          10             A                          1   \n",
       "2         F  0-17          10             A                          1   \n",
       "3         F  0-17          10             A                          3   \n",
       "4         F  0-17          10             A                          3   \n",
       "...     ...   ...         ...           ...                        ...   \n",
       "4993      M   55+           7             C                          1   \n",
       "4994      M   55+           1             C                          1   \n",
       "4995      M   55+          13             C                          3   \n",
       "4996      M   55+           0             C                          2   \n",
       "4997      M   55+           6             C                          0   \n",
       "\n",
       "      Marital_Status  Product_Category_1  Product_Category_2  Purchase  \n",
       "0                  0                   5                17.0      2010  \n",
       "1                  0                   7                 8.0      4483  \n",
       "2                  0                   1                 4.0      7696  \n",
       "3                  0                   2                 4.0     16429  \n",
       "4                  0                   3                 5.0      5780  \n",
       "...              ...                 ...                 ...       ...  \n",
       "4993               1                   1                16.0     11701  \n",
       "4994               1                   8                 8.0      2045  \n",
       "4995               1                   1                 6.0      4505  \n",
       "4996               1                  12                 8.0      1413  \n",
       "4997               1                   5                14.0      7182  \n",
       "\n",
       "[4998 rows x 9 columns]"
      ]
     },
     "execution_count": 216,
     "metadata": {},
     "output_type": "execute_result"
    }
   ],
   "source": [
    "df"
   ]
  },
  {
   "cell_type": "code",
   "execution_count": 217,
   "metadata": {},
   "outputs": [
    {
     "data": {
      "text/html": [
       "<div>\n",
       "<style scoped>\n",
       "    .dataframe tbody tr th:only-of-type {\n",
       "        vertical-align: middle;\n",
       "    }\n",
       "\n",
       "    .dataframe tbody tr th {\n",
       "        vertical-align: top;\n",
       "    }\n",
       "\n",
       "    .dataframe thead th {\n",
       "        text-align: right;\n",
       "    }\n",
       "</style>\n",
       "<table border=\"1\" class=\"dataframe\">\n",
       "  <thead>\n",
       "    <tr style=\"text-align: right;\">\n",
       "      <th></th>\n",
       "      <th>Gender</th>\n",
       "      <th>Age</th>\n",
       "      <th>City_Category</th>\n",
       "      <th>Stay_In_Current_City_Years</th>\n",
       "    </tr>\n",
       "  </thead>\n",
       "  <tbody>\n",
       "    <tr>\n",
       "      <th>0</th>\n",
       "      <td>F</td>\n",
       "      <td>0-17</td>\n",
       "      <td>A</td>\n",
       "      <td>3</td>\n",
       "    </tr>\n",
       "    <tr>\n",
       "      <th>1</th>\n",
       "      <td>F</td>\n",
       "      <td>0-17</td>\n",
       "      <td>A</td>\n",
       "      <td>1</td>\n",
       "    </tr>\n",
       "    <tr>\n",
       "      <th>2</th>\n",
       "      <td>F</td>\n",
       "      <td>0-17</td>\n",
       "      <td>A</td>\n",
       "      <td>1</td>\n",
       "    </tr>\n",
       "    <tr>\n",
       "      <th>3</th>\n",
       "      <td>F</td>\n",
       "      <td>0-17</td>\n",
       "      <td>A</td>\n",
       "      <td>3</td>\n",
       "    </tr>\n",
       "    <tr>\n",
       "      <th>4</th>\n",
       "      <td>F</td>\n",
       "      <td>0-17</td>\n",
       "      <td>A</td>\n",
       "      <td>3</td>\n",
       "    </tr>\n",
       "    <tr>\n",
       "      <th>...</th>\n",
       "      <td>...</td>\n",
       "      <td>...</td>\n",
       "      <td>...</td>\n",
       "      <td>...</td>\n",
       "    </tr>\n",
       "    <tr>\n",
       "      <th>4993</th>\n",
       "      <td>M</td>\n",
       "      <td>55+</td>\n",
       "      <td>C</td>\n",
       "      <td>1</td>\n",
       "    </tr>\n",
       "    <tr>\n",
       "      <th>4994</th>\n",
       "      <td>M</td>\n",
       "      <td>55+</td>\n",
       "      <td>C</td>\n",
       "      <td>1</td>\n",
       "    </tr>\n",
       "    <tr>\n",
       "      <th>4995</th>\n",
       "      <td>M</td>\n",
       "      <td>55+</td>\n",
       "      <td>C</td>\n",
       "      <td>3</td>\n",
       "    </tr>\n",
       "    <tr>\n",
       "      <th>4996</th>\n",
       "      <td>M</td>\n",
       "      <td>55+</td>\n",
       "      <td>C</td>\n",
       "      <td>2</td>\n",
       "    </tr>\n",
       "    <tr>\n",
       "      <th>4997</th>\n",
       "      <td>M</td>\n",
       "      <td>55+</td>\n",
       "      <td>C</td>\n",
       "      <td>0</td>\n",
       "    </tr>\n",
       "  </tbody>\n",
       "</table>\n",
       "<p>4998 rows × 4 columns</p>\n",
       "</div>"
      ],
      "text/plain": [
       "     Gender   Age City_Category Stay_In_Current_City_Years\n",
       "0         F  0-17             A                          3\n",
       "1         F  0-17             A                          1\n",
       "2         F  0-17             A                          1\n",
       "3         F  0-17             A                          3\n",
       "4         F  0-17             A                          3\n",
       "...     ...   ...           ...                        ...\n",
       "4993      M   55+             C                          1\n",
       "4994      M   55+             C                          1\n",
       "4995      M   55+             C                          3\n",
       "4996      M   55+             C                          2\n",
       "4997      M   55+             C                          0\n",
       "\n",
       "[4998 rows x 4 columns]"
      ]
     },
     "execution_count": 217,
     "metadata": {},
     "output_type": "execute_result"
    }
   ],
   "source": [
    "df.select_dtypes(include=\"object\")"
   ]
  },
  {
   "cell_type": "code",
   "execution_count": 218,
   "metadata": {},
   "outputs": [],
   "source": [
    "df=pd.get_dummies(df, drop_first=True)"
   ]
  },
  {
   "cell_type": "code",
   "execution_count": 219,
   "metadata": {},
   "outputs": [
    {
     "data": {
      "text/html": [
       "<div>\n",
       "<style scoped>\n",
       "    .dataframe tbody tr th:only-of-type {\n",
       "        vertical-align: middle;\n",
       "    }\n",
       "\n",
       "    .dataframe tbody tr th {\n",
       "        vertical-align: top;\n",
       "    }\n",
       "\n",
       "    .dataframe thead th {\n",
       "        text-align: right;\n",
       "    }\n",
       "</style>\n",
       "<table border=\"1\" class=\"dataframe\">\n",
       "  <thead>\n",
       "    <tr style=\"text-align: right;\">\n",
       "      <th></th>\n",
       "      <th>Occupation</th>\n",
       "      <th>Marital_Status</th>\n",
       "      <th>Product_Category_1</th>\n",
       "      <th>Product_Category_2</th>\n",
       "      <th>Purchase</th>\n",
       "      <th>Gender_M</th>\n",
       "      <th>Age_18-25</th>\n",
       "      <th>Age_26-35</th>\n",
       "      <th>Age_36-45</th>\n",
       "      <th>Age_46-50</th>\n",
       "      <th>Age_51-55</th>\n",
       "      <th>Age_55+</th>\n",
       "      <th>City_Category_B</th>\n",
       "      <th>City_Category_C</th>\n",
       "      <th>Stay_In_Current_City_Years_1</th>\n",
       "      <th>Stay_In_Current_City_Years_2</th>\n",
       "      <th>Stay_In_Current_City_Years_3</th>\n",
       "      <th>Stay_In_Current_City_Years_4+</th>\n",
       "    </tr>\n",
       "  </thead>\n",
       "  <tbody>\n",
       "    <tr>\n",
       "      <th>0</th>\n",
       "      <td>10</td>\n",
       "      <td>0</td>\n",
       "      <td>5</td>\n",
       "      <td>17.0</td>\n",
       "      <td>2010</td>\n",
       "      <td>0</td>\n",
       "      <td>0</td>\n",
       "      <td>0</td>\n",
       "      <td>0</td>\n",
       "      <td>0</td>\n",
       "      <td>0</td>\n",
       "      <td>0</td>\n",
       "      <td>0</td>\n",
       "      <td>0</td>\n",
       "      <td>0</td>\n",
       "      <td>0</td>\n",
       "      <td>1</td>\n",
       "      <td>0</td>\n",
       "    </tr>\n",
       "    <tr>\n",
       "      <th>1</th>\n",
       "      <td>10</td>\n",
       "      <td>0</td>\n",
       "      <td>7</td>\n",
       "      <td>8.0</td>\n",
       "      <td>4483</td>\n",
       "      <td>0</td>\n",
       "      <td>0</td>\n",
       "      <td>0</td>\n",
       "      <td>0</td>\n",
       "      <td>0</td>\n",
       "      <td>0</td>\n",
       "      <td>0</td>\n",
       "      <td>0</td>\n",
       "      <td>0</td>\n",
       "      <td>1</td>\n",
       "      <td>0</td>\n",
       "      <td>0</td>\n",
       "      <td>0</td>\n",
       "    </tr>\n",
       "    <tr>\n",
       "      <th>2</th>\n",
       "      <td>10</td>\n",
       "      <td>0</td>\n",
       "      <td>1</td>\n",
       "      <td>4.0</td>\n",
       "      <td>7696</td>\n",
       "      <td>0</td>\n",
       "      <td>0</td>\n",
       "      <td>0</td>\n",
       "      <td>0</td>\n",
       "      <td>0</td>\n",
       "      <td>0</td>\n",
       "      <td>0</td>\n",
       "      <td>0</td>\n",
       "      <td>0</td>\n",
       "      <td>1</td>\n",
       "      <td>0</td>\n",
       "      <td>0</td>\n",
       "      <td>0</td>\n",
       "    </tr>\n",
       "    <tr>\n",
       "      <th>3</th>\n",
       "      <td>10</td>\n",
       "      <td>0</td>\n",
       "      <td>2</td>\n",
       "      <td>4.0</td>\n",
       "      <td>16429</td>\n",
       "      <td>0</td>\n",
       "      <td>0</td>\n",
       "      <td>0</td>\n",
       "      <td>0</td>\n",
       "      <td>0</td>\n",
       "      <td>0</td>\n",
       "      <td>0</td>\n",
       "      <td>0</td>\n",
       "      <td>0</td>\n",
       "      <td>0</td>\n",
       "      <td>0</td>\n",
       "      <td>1</td>\n",
       "      <td>0</td>\n",
       "    </tr>\n",
       "    <tr>\n",
       "      <th>4</th>\n",
       "      <td>10</td>\n",
       "      <td>0</td>\n",
       "      <td>3</td>\n",
       "      <td>5.0</td>\n",
       "      <td>5780</td>\n",
       "      <td>0</td>\n",
       "      <td>0</td>\n",
       "      <td>0</td>\n",
       "      <td>0</td>\n",
       "      <td>0</td>\n",
       "      <td>0</td>\n",
       "      <td>0</td>\n",
       "      <td>0</td>\n",
       "      <td>0</td>\n",
       "      <td>0</td>\n",
       "      <td>0</td>\n",
       "      <td>1</td>\n",
       "      <td>0</td>\n",
       "    </tr>\n",
       "    <tr>\n",
       "      <th>...</th>\n",
       "      <td>...</td>\n",
       "      <td>...</td>\n",
       "      <td>...</td>\n",
       "      <td>...</td>\n",
       "      <td>...</td>\n",
       "      <td>...</td>\n",
       "      <td>...</td>\n",
       "      <td>...</td>\n",
       "      <td>...</td>\n",
       "      <td>...</td>\n",
       "      <td>...</td>\n",
       "      <td>...</td>\n",
       "      <td>...</td>\n",
       "      <td>...</td>\n",
       "      <td>...</td>\n",
       "      <td>...</td>\n",
       "      <td>...</td>\n",
       "      <td>...</td>\n",
       "    </tr>\n",
       "    <tr>\n",
       "      <th>4993</th>\n",
       "      <td>7</td>\n",
       "      <td>1</td>\n",
       "      <td>1</td>\n",
       "      <td>16.0</td>\n",
       "      <td>11701</td>\n",
       "      <td>1</td>\n",
       "      <td>0</td>\n",
       "      <td>0</td>\n",
       "      <td>0</td>\n",
       "      <td>0</td>\n",
       "      <td>0</td>\n",
       "      <td>1</td>\n",
       "      <td>0</td>\n",
       "      <td>1</td>\n",
       "      <td>1</td>\n",
       "      <td>0</td>\n",
       "      <td>0</td>\n",
       "      <td>0</td>\n",
       "    </tr>\n",
       "    <tr>\n",
       "      <th>4994</th>\n",
       "      <td>1</td>\n",
       "      <td>1</td>\n",
       "      <td>8</td>\n",
       "      <td>8.0</td>\n",
       "      <td>2045</td>\n",
       "      <td>1</td>\n",
       "      <td>0</td>\n",
       "      <td>0</td>\n",
       "      <td>0</td>\n",
       "      <td>0</td>\n",
       "      <td>0</td>\n",
       "      <td>1</td>\n",
       "      <td>0</td>\n",
       "      <td>1</td>\n",
       "      <td>1</td>\n",
       "      <td>0</td>\n",
       "      <td>0</td>\n",
       "      <td>0</td>\n",
       "    </tr>\n",
       "    <tr>\n",
       "      <th>4995</th>\n",
       "      <td>13</td>\n",
       "      <td>1</td>\n",
       "      <td>1</td>\n",
       "      <td>6.0</td>\n",
       "      <td>4505</td>\n",
       "      <td>1</td>\n",
       "      <td>0</td>\n",
       "      <td>0</td>\n",
       "      <td>0</td>\n",
       "      <td>0</td>\n",
       "      <td>0</td>\n",
       "      <td>1</td>\n",
       "      <td>0</td>\n",
       "      <td>1</td>\n",
       "      <td>0</td>\n",
       "      <td>0</td>\n",
       "      <td>1</td>\n",
       "      <td>0</td>\n",
       "    </tr>\n",
       "    <tr>\n",
       "      <th>4996</th>\n",
       "      <td>0</td>\n",
       "      <td>1</td>\n",
       "      <td>12</td>\n",
       "      <td>8.0</td>\n",
       "      <td>1413</td>\n",
       "      <td>1</td>\n",
       "      <td>0</td>\n",
       "      <td>0</td>\n",
       "      <td>0</td>\n",
       "      <td>0</td>\n",
       "      <td>0</td>\n",
       "      <td>1</td>\n",
       "      <td>0</td>\n",
       "      <td>1</td>\n",
       "      <td>0</td>\n",
       "      <td>1</td>\n",
       "      <td>0</td>\n",
       "      <td>0</td>\n",
       "    </tr>\n",
       "    <tr>\n",
       "      <th>4997</th>\n",
       "      <td>6</td>\n",
       "      <td>1</td>\n",
       "      <td>5</td>\n",
       "      <td>14.0</td>\n",
       "      <td>7182</td>\n",
       "      <td>1</td>\n",
       "      <td>0</td>\n",
       "      <td>0</td>\n",
       "      <td>0</td>\n",
       "      <td>0</td>\n",
       "      <td>0</td>\n",
       "      <td>1</td>\n",
       "      <td>0</td>\n",
       "      <td>1</td>\n",
       "      <td>0</td>\n",
       "      <td>0</td>\n",
       "      <td>0</td>\n",
       "      <td>0</td>\n",
       "    </tr>\n",
       "  </tbody>\n",
       "</table>\n",
       "<p>4998 rows × 18 columns</p>\n",
       "</div>"
      ],
      "text/plain": [
       "      Occupation  Marital_Status  Product_Category_1  Product_Category_2  \\\n",
       "0             10               0                   5                17.0   \n",
       "1             10               0                   7                 8.0   \n",
       "2             10               0                   1                 4.0   \n",
       "3             10               0                   2                 4.0   \n",
       "4             10               0                   3                 5.0   \n",
       "...          ...             ...                 ...                 ...   \n",
       "4993           7               1                   1                16.0   \n",
       "4994           1               1                   8                 8.0   \n",
       "4995          13               1                   1                 6.0   \n",
       "4996           0               1                  12                 8.0   \n",
       "4997           6               1                   5                14.0   \n",
       "\n",
       "      Purchase  Gender_M  Age_18-25  Age_26-35  Age_36-45  Age_46-50  \\\n",
       "0         2010         0          0          0          0          0   \n",
       "1         4483         0          0          0          0          0   \n",
       "2         7696         0          0          0          0          0   \n",
       "3        16429         0          0          0          0          0   \n",
       "4         5780         0          0          0          0          0   \n",
       "...        ...       ...        ...        ...        ...        ...   \n",
       "4993     11701         1          0          0          0          0   \n",
       "4994      2045         1          0          0          0          0   \n",
       "4995      4505         1          0          0          0          0   \n",
       "4996      1413         1          0          0          0          0   \n",
       "4997      7182         1          0          0          0          0   \n",
       "\n",
       "      Age_51-55  Age_55+  City_Category_B  City_Category_C  \\\n",
       "0             0        0                0                0   \n",
       "1             0        0                0                0   \n",
       "2             0        0                0                0   \n",
       "3             0        0                0                0   \n",
       "4             0        0                0                0   \n",
       "...         ...      ...              ...              ...   \n",
       "4993          0        1                0                1   \n",
       "4994          0        1                0                1   \n",
       "4995          0        1                0                1   \n",
       "4996          0        1                0                1   \n",
       "4997          0        1                0                1   \n",
       "\n",
       "      Stay_In_Current_City_Years_1  Stay_In_Current_City_Years_2  \\\n",
       "0                                0                             0   \n",
       "1                                1                             0   \n",
       "2                                1                             0   \n",
       "3                                0                             0   \n",
       "4                                0                             0   \n",
       "...                            ...                           ...   \n",
       "4993                             1                             0   \n",
       "4994                             1                             0   \n",
       "4995                             0                             0   \n",
       "4996                             0                             1   \n",
       "4997                             0                             0   \n",
       "\n",
       "      Stay_In_Current_City_Years_3  Stay_In_Current_City_Years_4+  \n",
       "0                                1                              0  \n",
       "1                                0                              0  \n",
       "2                                0                              0  \n",
       "3                                1                              0  \n",
       "4                                1                              0  \n",
       "...                            ...                            ...  \n",
       "4993                             0                              0  \n",
       "4994                             0                              0  \n",
       "4995                             1                              0  \n",
       "4996                             0                              0  \n",
       "4997                             0                              0  \n",
       "\n",
       "[4998 rows x 18 columns]"
      ]
     },
     "execution_count": 219,
     "metadata": {},
     "output_type": "execute_result"
    }
   ],
   "source": [
    "df"
   ]
  },
  {
   "cell_type": "markdown",
   "metadata": {},
   "source": [
    "## 2. KNN 구현 & 파라미터 튜닝"
   ]
  },
  {
   "cell_type": "code",
   "execution_count": 220,
   "metadata": {},
   "outputs": [],
   "source": [
    "X = df.drop([\"Purchase\"], axis=1)\n",
    "y = df[\"Purchase\"] # 타겟 변수 설정"
   ]
  },
  {
   "cell_type": "code",
   "execution_count": 221,
   "metadata": {},
   "outputs": [],
   "source": [
    "from sklearn.model_selection import train_test_split\n",
    "X_train, X_test, y_train, y_test = train_test_split(X, y, test_size = 0.2, random_state = 42)"
   ]
  },
  {
   "cell_type": "code",
   "execution_count": 222,
   "metadata": {},
   "outputs": [],
   "source": [
    "from sklearn.preprocessing import StandardScaler\n",
    "scaler = StandardScaler()\n",
    "scaler.fit(X_train)\n",
    "X_train = scaler.transform(X_train)\n",
    "X_test = scaler.transform(X_test)"
   ]
  },
  {
   "cell_type": "code",
   "execution_count": 223,
   "metadata": {},
   "outputs": [],
   "source": [
    "from sklearn.neighbors import KNeighborsRegressor\n",
    "regressor = KNeighborsRegressor(n_neighbors = 10, weights = \"uniform\") # 일반적인 knn\n",
    "regressor.fit(X_train , y_train)\n",
    "\n",
    "y_pred = regressor.predict(X_test)"
   ]
  },
  {
   "cell_type": "code",
   "execution_count": 224,
   "metadata": {},
   "outputs": [
    {
     "data": {
      "text/plain": [
       "array([10479.4,  8831.8, 11488.1,  6632. ,  7496.4, 10858.2,  8991.7,\n",
       "       10808.7,  7300. ,  7796.1,  9506.9, 10446.1, 10161.5,  7482.7,\n",
       "       10118.5, 10692.7,  7201.5,  9710.2, 10477.6,  7575. , 13159.9,\n",
       "        9010. , 10659.2,  8949.9,  9498.2,  8887.4,  9539.3,  8970.8,\n",
       "        4069.2,  6483.8, 10244.2,  5828.2, 11141.6,  9431.3,  6694.2,\n",
       "        9695. ,  8997. ,  8477.4, 10957.4,  6508.7,  9449.3,  8117.8,\n",
       "        6652. ,  9106.4,  6105.8, 10000.9,  9812.6, 14938.8, 13205.4,\n",
       "        8039.5,  9526.2,  6452.3,  7407.3,  6103.4,  9030.1,  9988. ,\n",
       "       12313.2, 10925. , 15003.5,  6422.5,  9132.6,  9825.7,  6828.5,\n",
       "       11044.8,  8868. ,  8361.1, 12790.2, 12066.7,  7750.3,  6736.9,\n",
       "        9884.2, 12899.4,  8325.5,  9612.2,  8236.8,  8995.6,  6330.6,\n",
       "        5719. ,  8582.6, 11025. ,  8239. ,  6083.7,  8260. ,  9214. ,\n",
       "        6697.3,  6915.6, 12586.4, 10877.1,  7363.9,  7750.3, 11908.6,\n",
       "        5983.7,  5989.5, 10249.1,  8464.3,  7180.1, 11314.1,  6681.8,\n",
       "        8137.4,  7369.9, 10989.5, 10123.9,  8853.8,  8739.8,  5634.2,\n",
       "        9106.2, 10741.8,  8051.5, 10262.5, 10091.5,  9370.9,  8386.2,\n",
       "        6097.3,  9375.6,  8058.7,  7381.6, 12617. ,  7872.8,  7490.1,\n",
       "        9446.6,  7989.9, 10942.1,  6728.7,  5958.9,  7639.1,  8031.7,\n",
       "        9219.4,  8185.3,  6904.5,  8186.5, 12240.7,  6277.2,  8219.5,\n",
       "       10724.8,  9314.6,  8722.9,  6504.4,  8260.9,  8701.8,  7340. ,\n",
       "        7792.4,  8661.3,  8670.1,  8083.2,  6043.6,  7389.8,  9519.4,\n",
       "       13259.6, 10100.8,  6732.5, 10024.1, 11962.9,  8187. ,  8598. ,\n",
       "       13579.5,  6677.3,  5804.4,  6614.1,  7622.1,  8097.6, 11509.3,\n",
       "        6508.7,  6657.1,  5886.1,  9545.7, 10305.9, 10608.5, 11981.4,\n",
       "        9902.9, 10048. ,  7215.5,  7291.8, 10148.6,  8017.9,  7999.3,\n",
       "        6714.2,  8622.3,  9642.1, 11725.4,  8834.7,  8757.9,  9361.4,\n",
       "       10618.2,  7940.3,  6019.9,  8180.2,  8155.9,  8983.5, 10001. ,\n",
       "        4520.8, 11578.7, 11272.2,  7669.5,  9448.2,  9148. ,  9718.8,\n",
       "        9304.2,  8048.3,  7322.6, 10533.7,  8223.7, 10221.2,  8622.1,\n",
       "       10310.1, 10067.1,  7411.1,  9361.4, 11144.9,  9585.4,  7368.8,\n",
       "        6608.2,  7705.1,  6091.5,  9810.1,  6560.3,  9638.4,  8855. ,\n",
       "       11765.6, 11361.6, 13633.6, 11114.2,  9887.9, 13000.1,  8371.8,\n",
       "        8061.2, 12505.2,  7747.3,  8339.4,  8525.4, 13369.7,  6926.6,\n",
       "        9168.6,  9681.1,  7651.1,  7777. ,  8700. , 10352. ,  7636.9,\n",
       "       12133.5, 10847.3,  7257.2,  9438.9,  7415.3,  5837.5,  8775.9,\n",
       "        7767. ,  6238.5, 10930.9, 12806.5,  8457.7,  7100.5,  7870.3,\n",
       "        6763.5,  8376.9,  7026.3,  6450.4,  8458.2,  7346.1,  5768.9,\n",
       "       10135.9,  8937. ,  6589.4,  9073. ,  7908.5,  8611.8, 10109.8,\n",
       "        8644.8, 10331.3,  8502. ,  8595. ,  7656.7, 10032.5,  5750.8,\n",
       "        8223.7,  6957.7, 11156.6, 12597.5,  7681.6,  6413.5,  8159.8,\n",
       "        7490.5,  8606.2,  8724.2, 10268.1,  6233.4,  9271.8, 11540.2,\n",
       "        9226.6,  5914.6,  7637.8,  5763. , 10380.4,  6062.2,  7240. ,\n",
       "        6708.2,  6679.6, 11794.7,  6461.6, 11188.4,  8029. , 11547.2,\n",
       "        8820.1,  7272.7,  7752.5,  4608.2, 12152.9,  7651.9,  5627.7,\n",
       "       10393.7,  9470.5,  9044.1, 12630.6,  8694.4,  8831.8, 14398.7,\n",
       "        6726.9,  9115.9, 11234.3, 10775.4,  6123.5,  6661.7,  7519.2,\n",
       "        8220.1,  6622.6, 12133.8,  8680.3,  8944.4,  9580.8,  6130.5,\n",
       "        8555.4, 10764. ,  8832.3,  6132.7,  8007.8,  9209.3,  7817.4,\n",
       "        6735.5, 11479. ,  8527. ,  9030.1,  7322.6,  8610.5,  8970.8,\n",
       "       13624. ,  7713.4,  7579. ,  7809.2,  7633.3, 11035.3,  5816.6,\n",
       "        8703.4,  7886.3, 13046.8,  9877.7,  7653.5, 13611.7,  7172.1,\n",
       "       11908.6, 12822.9,  8697.4, 11554.2, 14316.2,  6840.2,  8627.8,\n",
       "        9335.8,  6272.4, 12684.1,  9816.5, 10148.6,  6063.7,  5840.7,\n",
       "        9750.6,  7210.1, 10095.5,  7982.8,  9041.4,  8971.7,  8556.7,\n",
       "       14260.7,  8969.1,  6793.3,  9976.4,  7272.7,  8559.6,  7827.5,\n",
       "        5294.4, 10371.5, 11017.8,  5542.8,  6927.7,  9317.3,  6786.6,\n",
       "        8667.3,  9271. , 12568.2,  9816.9, 11965.9,  9028.9,  7898.3,\n",
       "        6350.6,  8065.3,  6461.6,  9625.9,  7593.6, 11109.3,  9104.4,\n",
       "        7028. ,  9117.9,  7216.4,  9735.1,  8597.7,  9517.6,  8505.6,\n",
       "        6244.8,  8125.6,  6763.6, 11895.7,  7299.5, 12281.8,  9446. ,\n",
       "       10271.4,  7368. ,  7740.4,  9556.1,  8034. ,  8727.3,  7183.5,\n",
       "       10396.3,  8112.1,  9263.2,  6681.6,  7733.1,  5645.2,  9652.2,\n",
       "        9620.1, 12018. ,  8786.8,  6602.1,  9638.4,  8138.5,  9750.6,\n",
       "        6087.9, 14260.7,  9238. , 11565.1,  7236.7, 13210. ,  6373.4,\n",
       "        5817.2,  7536.2,  8658.6,  6761.5, 10778. , 11027.8,  8764.5,\n",
       "       11894.2, 12093.6,  7453. ,  6621. ,  9122.8,  8209.3,  5211.3,\n",
       "        5881.4,  6869.8,  4485.7,  7463.1,  5950.7,  7808.8,  8161.3,\n",
       "        8105.3, 10970.1,  8944.4,  8155.9,  8991.2,  7688.7,  9949. ,\n",
       "        7231.9, 10123.9,  6123.5,  8712.8,  9193.4,  6436. ,  8981. ,\n",
       "        5752.9,  7209.6,  6773. , 10340.6,  9055.1,  6123.5,  7378.1,\n",
       "        8991.2,  9625.9,  7748.8,  6508.7, 13921.4,  9016. , 10454.8,\n",
       "        9380.8, 11421.8,  6079. ,  9200.5,  8821.2,  7615.5,  9957.3,\n",
       "        9996.3,  7026.3,  8253.1,  8047.7, 10312.9,  8441.8, 11482.3,\n",
       "        8971.6,  7961. ,  9064. , 10850.5,  8945.7,  8419.2,  8585.1,\n",
       "        6942.8,  9150.7,  9920.1,  8970.8, 10609.8,  9956.7,  5559.2,\n",
       "        9825.7,  6624.7,  8221. , 11718.3,  8325.5,  9202.2,  5879.9,\n",
       "        9619.6,  8665.8,  9802.3,  8526.2,  8941.3,  6037.1,  9560.5,\n",
       "        8255.1, 10172.4,  6642.7, 10764.5,  8623.3,  9648.7, 11509.9,\n",
       "        5665.7, 10364.4,  6728.7,  8756.9,  7024.7,  7307.8, 10698.5,\n",
       "        9281.1,  8976.9,  8117.2,  9751.4,  7474.1,  8317.7,  8793. ,\n",
       "        8365.4,  8490.7,  9703.6,  8686.8, 10533.3,  6015.3,  9798.2,\n",
       "        6098.2,  9284.2,  6890.1,  6604.1, 10428.3,  8539.2,  8631.4,\n",
       "       12488.5, 10291.3,  8362.2,  6081.8,  8387.2,  9529.8,  7761.3,\n",
       "       11857.3, 14224.7,  8439.5,  8506.1, 11117.9, 12721.9, 13567.1,\n",
       "        6186.9,  8282.8, 12819.4,  8879. ,  6678.1, 10034.3,  8991.2,\n",
       "       11305.1,  9030.1,  5660.6,  9246.8,  9403.6,  9782.5,  5575.5,\n",
       "        9545.2,  7976.5, 11854.5,  9613. ,  9412.1,  5315.5,  6231.7,\n",
       "        9877.8, 10281.7,  8572.3,  7055.1, 10572.4, 10129.2, 10884.5,\n",
       "        7135.8,  8123.9,  9810.1,  7227.1,  7892.4,  7520.2,  7315.1,\n",
       "        8153. ,  7056.1, 10158.6,  8927.5,  6731.6,  6432.6, 10476.6,\n",
       "        6247.6,  8032.5,  8764.7,  6721.9,  9055.1,  8728.2, 10390.5,\n",
       "        8505.6,  7103.5,  7840.5, 13604.3,  8556.7, 10143.1,  7860.4,\n",
       "        8770.5,  8306.4,  9928.9,  6063.7,  7906.3,  6083.7,  9085.9,\n",
       "        6547. ,  9001.4,  7002.7,  8830.3,  9470.8,  9838.1,  7866.3,\n",
       "        8724.8, 10274.5,  8855.5,  7068.3,  8234.5,  7891. ,  6880.5,\n",
       "        8203.7,  7636.5,  8199.3, 14449.8,  9894.6,  5086.8,  7686.4,\n",
       "        8309.8, 10472.7,  8052.5,  8554.2,  6373.4,  8748.8,  8630.5,\n",
       "       11325.2, 11421.8, 10243.1,  7579.2,  7735.3,  9069.3,  6063.7,\n",
       "        9217.6,  7065.8,  9647.6,  8358.3,  9154.1,  9263.5, 10212.7,\n",
       "        9640.7,  8989.8, 12603.1, 11235.3,  6158.8, 10081.9,  6003.6,\n",
       "        5336.4,  9237.6,  9065.3,  7792.4,  8611.7, 11955.3, 10310.9,\n",
       "       11805.6,  9973.3,  8752.2,  9072.4,  7696.2,  9947.4,  8893.5,\n",
       "        6019.9,  7470.8,  7982.6,  7623.5,  9474.4, 12068.2, 12818.7,\n",
       "        6794.7,  8574.8, 10820.2, 10279.9,  6350.6,  9006.6, 11448.4,\n",
       "       11506.2, 13262.8,  6840.5,  7780.7,  9214.3, 11511.9,  6858.2,\n",
       "        8338.9, 10003.7, 13385.3,  8916.1,  6652.4, 11664.4, 10699.7,\n",
       "        7749.8, 10824.7,  9207.6,  6753.3, 12627. , 10095.5,  7125.5,\n",
       "        7846.3,  7024.5,  8445.6,  7552. , 10676.9,  9829.8,  8656.2,\n",
       "        6459. ,  6938.9,  8395.5,  9713.3, 11107.7,  8667.8,  6913.2,\n",
       "       10008.4,  8155.9,  9250.9,  6093.5,  6894. ,  9349.1, 10080.6,\n",
       "        9095.5, 11008.8,  9977.6,  7140.3,  7985.8,  8138.5,  8334.1,\n",
       "       11064.5,  8887.8,  7675.5,  8161.3, 11386.1,  7739.5, 10161.5,\n",
       "        8468.4,  7663.9,  8223.9,  8614.3,  9699.3, 11133.5,  8012.4,\n",
       "        7175.9, 10024.1,  7437.9,  7108.9,  8264.5, 12368.5,  8996.1,\n",
       "       11862.3,  9094.2,  8622.3,  8852. ,  9482.4, 10570.7,  6344.9,\n",
       "        9854.2,  7289.8,  6880.8,  6946.4, 13349.4, 11818.3,  7431. ,\n",
       "        8220.2,  7080.1,  9992. , 12876.6,  6331.6,  7635.4, 13031.5,\n",
       "       11605. ,  9448.5, 13653.5,  9647.7,  8805.9,  6514.9, 12051.1,\n",
       "        6670.2,  8264.5,  8122.5,  8187. ,  8958.1,  7566.7,  8026. ,\n",
       "        9085.9,  8587.6,  8361.1,  9354.9, 10021.1,  8937. ,  6383.7,\n",
       "        5296.2,  7108.9, 10884.5,  7237.6,  9431.3,  7636.3,  7463.4,\n",
       "        7769.7,  8597.7,  7231.8, 11417.2, 10003.2,  6651.3, 13291.3,\n",
       "       11216.9,  8764.5, 12341.1,  7711.4,  9734.9,  7954.1,  9164.2,\n",
       "        7597.2,  7937. ,  5634.2,  8534.6,  8766.2,  8178.6,  7272.1,\n",
       "        6378.3,  8209.3,  8753.3,  6135.1,  8611.8,  9830.7,  9386. ,\n",
       "        7161.9, 11802.9, 11740. ,  7702.6,  9129.8,  8693. ,  6006.5,\n",
       "        9462.7,  7094. ,  7911.1,  9877.8,  5608.2, 11149.2,  9639.7,\n",
       "       10942.1,  6164. ,  7606.6, 13565.8,  6420.3,  6222.1,  8016. ,\n",
       "        9879.2,  6379.3,  5839.2,  9056.6, 11835.9,  8292.4, 11912.5,\n",
       "        7559.2,  7748.4, 13069.1,  9542. , 10610. ,  8071. , 10065.1,\n",
       "        5084.6, 10990.3,  8085.4,  9638.4,  8638.7,  7320.2,  8552.4,\n",
       "       10824. ,  8327.8,  6881.7, 10135.6, 10736.6,  6019.9,  6681.9,\n",
       "        6120.5, 10423.9, 11938.7,  9178.6,  7080.9,  9592. ,  8788.1,\n",
       "        8889.4,  6520.9, 12942.4,  8364.2,  7461.9,  8160. ,  8223.7,\n",
       "        8836.1,  9638.4,  9772.3, 11303.4,  9890.3,  7566.7, 10777.9,\n",
       "        7849.8,  6350.6,  9055.1,  7642.7,  9521.7,  8423.2,  8988.3,\n",
       "        8072.4,  6350.6,  7822.4,  9154.1,  8930.4, 11417.2,  6036.8,\n",
       "       12233.8,  9712.7,  8521.1, 10840. ,  7754.9, 10379. ,  8978. ,\n",
       "        7197.1,  9698.5,  7360.4, 10103.7, 10692.7, 10034.3,  9259.5,\n",
       "        6822.3,  7136. ,  4041.7,  7154.3,  8138.5, 10065.1, 11540.9,\n",
       "        7411.1,  9354.5,  5593.8,  8061.2,  9708.3,  7572.4, 11013.6,\n",
       "        5451. ,  5329.9, 12834.1,  8576.8,  8940.9,  8674.9,  7735.3,\n",
       "        9026.6, 11463.5,  6851.6,  8873.8,  8852.5,  9393.9])"
      ]
     },
     "execution_count": 224,
     "metadata": {},
     "output_type": "execute_result"
    }
   ],
   "source": [
    "y_pred"
   ]
  },
  {
   "cell_type": "code",
   "execution_count": 225,
   "metadata": {},
   "outputs": [
    {
     "data": {
      "text/plain": [
       "4721.226941017558"
      ]
     },
     "execution_count": 225,
     "metadata": {},
     "output_type": "execute_result"
    }
   ],
   "source": [
    "from sklearn.metrics import mean_squared_error\n",
    "mean_squared_error(y_pred, y_test, squared = False)"
   ]
  },
  {
   "cell_type": "code",
   "execution_count": 226,
   "metadata": {},
   "outputs": [],
   "source": [
    "from sklearn.neighbors import KNeighborsRegressor\n",
    "\n",
    "# KNeighborsRegressor 생성 및 가중치 설정\n",
    "regressor = KNeighborsRegressor(n_neighbors=10, weights='distance') # 가중치 knn\n",
    "regressor.fit(X_train, y_train)\n",
    "\n",
    "# 테스트 데이터로 예측 수행\n",
    "y_pred = regressor.predict(X_test)"
   ]
  },
  {
   "cell_type": "code",
   "execution_count": 227,
   "metadata": {},
   "outputs": [
    {
     "data": {
      "text/plain": [
       "4693.796645419444"
      ]
     },
     "execution_count": 227,
     "metadata": {},
     "output_type": "execute_result"
    }
   ],
   "source": [
    "from sklearn.metrics import mean_squared_error\n",
    "mean_squared_error(y_pred, y_test, squared = False)"
   ]
  },
  {
   "cell_type": "markdown",
   "metadata": {},
   "source": [
    "## 3. Evaluation"
   ]
  },
  {
   "cell_type": "markdown",
   "metadata": {},
   "source": [
    "일반적인 knn과 가중치 knn을 적용해본 결과 weights = 'uniform'인 일반적인 knn의 경우 mse가 더 높음을 확인할 수 있었다. "
   ]
  },
  {
   "cell_type": "code",
   "execution_count": null,
   "metadata": {},
   "outputs": [],
   "source": []
  }
 ],
 "metadata": {
  "colab": {
   "provenance": []
  },
  "kernelspec": {
   "display_name": "Python 3 (ipykernel)",
   "language": "python",
   "name": "python3"
  },
  "language_info": {
   "codemirror_mode": {
    "name": "ipython",
    "version": 3
   },
   "file_extension": ".py",
   "mimetype": "text/x-python",
   "name": "python",
   "nbconvert_exporter": "python",
   "pygments_lexer": "ipython3",
   "version": "3.9.12"
  }
 },
 "nbformat": 4,
 "nbformat_minor": 1
}
