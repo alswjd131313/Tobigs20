{
 "cells": [
  {
   "cell_type": "markdown",
   "id": "b8a140ca",
   "metadata": {},
   "source": [
    "## UMAP과 PaCMAP 기법"
   ]
  },
  {
   "cell_type": "markdown",
   "id": "431db6b2",
   "metadata": {},
   "source": [
    "t-SNE: https://gaussian37.github.io/ml-concept-t_sne/"
   ]
  },
  {
   "cell_type": "markdown",
   "id": "6b3b34cc",
   "metadata": {},
   "source": [
    "t-SNE의 단점\n",
    "- 클러스터간 유사성을 잘 보장해주지 않음\n",
    "- 시각화 목적으로 주로 사용하기에 2차원, 3차원 수준을 넘어가는(예로 10차원) 구성 요소를 생성하기 위해 사용하기에는 어려움 존재\n",
    "- 고차원 데이터로 직접 작업할 수 없음\n",
    "- 계산에 많은 메모리 사용함"
   ]
  },
  {
   "cell_type": "markdown",
   "id": "91d41551",
   "metadata": {},
   "source": [
    "(PCA는 선형 차원 축소 기법, t-SNE, UMAP, PaCMAP는 비선형 차원 축소 기법)"
   ]
  },
  {
   "cell_type": "markdown",
   "id": "620daa85",
   "metadata": {},
   "source": [
    "### 1. UMAP\n",
    "#### :  Uniform Manifold Approximationn and Projection (균일 매니폴드 근사 및 투영)"
   ]
  },
  {
   "cell_type": "markdown",
   "id": "bbd4b6c4",
   "metadata": {},
   "source": [
    "https://towardsdatascience.com/how-exactly-umap-works-13e3040e1668\n",
    "<BR>\n",
    "https://pair-code.github.io/understanding-umap/\n",
    "<br>\n",
    "https://blog.naver.com/hss2864/223093386480"
   ]
  },
  {
   "cell_type": "markdown",
   "id": "50067694",
   "metadata": {},
   "source": [
    "데이터의 고차원 그래프를 구성한 다음 저차원 그래프를 가능한 한 구조적으로 유사하도록 최적화시킨다. 기본적으로 t_SNE의 철학을 따르지만 다른 비용 함수 사용과 정규화를 하지 않는다는 점과 같은 개선 사항을 도입한 기법이다.\n",
    "t-SNE의 경우 전역 구조를 거의 보존하지 않고 투영된 데이터를 분산하는 경향이 있는데, 대조적으로 UMAP은 고차원 구조의 인접한 부분을 낮은 차원으로 그룹화하는 경향이 있고, 이는 전체 구조의 보존이 증가했음을 반영한다.\n",
    "<Br>\n",
    "- 학습과정: 고차원의 데이터를 그래프 구조화하고, 저차원으로 그래프 사영시킨다.\n",
    "    <br>\n",
    "    1. data point에서 simplex 복합체로 만들어서 그래프를 구성\n",
    "    <br>\n",
    "    2. 각 노드에서의 길이 k의 radius를 그림(k가 작으면 local structure, k가 크면 global structure 구성)\n",
    "    <br>\n",
    "    3. 이 구조를 저차원으로 사영"
   ]
  },
  {
   "cell_type": "markdown",
   "id": "8a8833ad",
   "metadata": {},
   "source": [
    "- t-SNE와 달리 고차원 또는 저차원 확률에 정규화를 적용하지 않음 -> 고차원 그래프를 계산하는 시간이 크게 단축됨\n",
    "- t_SNE와 달리 글로벌 구조를 보존할 수 있음"
   ]
  },
  {
   "cell_type": "markdown",
   "id": "eadc8a9d",
   "metadata": {},
   "source": [
    "- 단점 \n",
    "1. 하이퍼 파라미터의 영향을 매우 크게 받음\n",
    "2. 저차원으로 임베딩된 결과에서의 각 데이터간 거리와 실제 데이터간 거리는 다름\n",
    "3. 저차원 임베딩 시 정보손실에 의한 데이터 왜곡 발생"
   ]
  },
  {
   "cell_type": "markdown",
   "id": "db4a3d6e",
   "metadata": {},
   "source": [
    "### 2. PaCMAP"
   ]
  },
  {
   "cell_type": "markdown",
   "id": "073c7495",
   "metadata": {},
   "source": [
    "#### : Pairwise Controlled Manifold Approximation"
   ]
  },
  {
   "cell_type": "markdown",
   "id": "b58ba156",
   "metadata": {},
   "source": [
    "https://github.com/YingfanWang/PaCMAP"
   ]
  },
  {
   "cell_type": "markdown",
   "id": "b06a9868",
   "metadata": {},
   "source": [
    "이웃 쌍(pair_neighbors), 중간 근거리쌍(pair_MN), 추가 쌍(pair_FP)의 세 가지 종류의 점 쌍을 사용해 저차원 임베딩을 최적화한다. t-SNE와 UMAP의 경우는 로컬 구조에 초점을 맞추는데, 글로컬 구조를 보존하기 위해 더 많은 이웃을 끌어들이는 것을 고려하는 대신, PaCMAP은 동적으로 특별한 쌍 그룹(중간-근거리 쌍)을 사용하여 먼저 전역 구조를 캡처한 다음 전역 구조와 지역 구조를 모두 보존하는 지역 구조를 개선한다. 데이터 간의 유사성을 보존하며 더 나은 근접성을 제공하는 것이 목표이다. 비선형 차원 축소 기법으로, 데이터의 비선형성을 표현할 수 있다. "
   ]
  },
  {
   "cell_type": "markdown",
   "id": "5fdd5c39",
   "metadata": {},
   "source": [
    "주로 데이터의 고차원 특성 간의 거리를 페어와이즈(pairs-wise)로 측정하고, 이 거리 정보를 활용하여 저차원으로의 매핑을 수행한다. 각 데이터 샘플들 간의 거리 정보를 저차원으로 유지하는 동시에, 원본 고차원 공간에서의 근접한 데이터 쌍들을 저차원에서도 근접하도록 조정한다."
   ]
  },
  {
   "cell_type": "code",
   "execution_count": null,
   "id": "ae6f87e0",
   "metadata": {},
   "outputs": [],
   "source": []
  }
 ],
 "metadata": {
  "kernelspec": {
   "display_name": "Python 3 (ipykernel)",
   "language": "python",
   "name": "python3"
  },
  "language_info": {
   "codemirror_mode": {
    "name": "ipython",
    "version": 3
   },
   "file_extension": ".py",
   "mimetype": "text/x-python",
   "name": "python",
   "nbconvert_exporter": "python",
   "pygments_lexer": "ipython3",
   "version": "3.9.12"
  }
 },
 "nbformat": 4,
 "nbformat_minor": 5
}
