{
 "cells": [
  {
   "cell_type": "markdown",
   "id": "b0ba9b89",
   "metadata": {},
   "source": [
    "## NN Adv Assignment"
   ]
  },
  {
   "cell_type": "code",
   "execution_count": 1,
   "id": "80f09603",
   "metadata": {},
   "outputs": [],
   "source": [
    "import numpy as np\n",
    "import pandas as pd\n",
    "import matplotlib.pyplot as plt\n",
    "\n",
    "### Pytorch\n",
    "\n",
    "import torch\n",
    "import torch.nn as nn\n",
    "import torch.nn.functional as F\n",
    "\n",
    "### TensorFlow\n",
    "\n",
    "import tensorflow as tf\n",
    "from tensorflow import keras\n",
    "\n",
    "import warnings\n",
    "warnings.filterwarnings(action='ignore')"
   ]
  },
  {
   "cell_type": "code",
   "execution_count": 2,
   "id": "8ee2caa3",
   "metadata": {},
   "outputs": [
    {
     "name": "stdout",
     "output_type": "stream",
     "text": [
      "1.24.3\n"
     ]
    }
   ],
   "source": [
    "print(np.__version__)"
   ]
  },
  {
   "cell_type": "markdown",
   "id": "7e8c1bab",
   "metadata": {},
   "source": [
    "### Load Data"
   ]
  },
  {
   "cell_type": "code",
   "execution_count": 3,
   "id": "defff792",
   "metadata": {},
   "outputs": [],
   "source": [
    "train = pd.read_csv(\"C:/Users/MJHwang/Desktop/tobigs/Tobigs20/Week6/Train.csv\")\n",
    "test = pd.read_csv(\"C:/Users/MJHwang/Desktop/tobigs/Tobigs20/Week6/Test.csv\")"
   ]
  },
  {
   "cell_type": "code",
   "execution_count": 4,
   "id": "ae6f6178",
   "metadata": {},
   "outputs": [
    {
     "data": {
      "text/html": [
       "<div>\n",
       "<style scoped>\n",
       "    .dataframe tbody tr th:only-of-type {\n",
       "        vertical-align: middle;\n",
       "    }\n",
       "\n",
       "    .dataframe tbody tr th {\n",
       "        vertical-align: top;\n",
       "    }\n",
       "\n",
       "    .dataframe thead th {\n",
       "        text-align: right;\n",
       "    }\n",
       "</style>\n",
       "<table border=\"1\" class=\"dataframe\">\n",
       "  <thead>\n",
       "    <tr style=\"text-align: right;\">\n",
       "      <th></th>\n",
       "      <th>label</th>\n",
       "      <th>pixel1</th>\n",
       "      <th>pixel2</th>\n",
       "      <th>pixel3</th>\n",
       "      <th>pixel4</th>\n",
       "      <th>pixel5</th>\n",
       "      <th>pixel6</th>\n",
       "      <th>pixel7</th>\n",
       "      <th>pixel8</th>\n",
       "      <th>pixel9</th>\n",
       "      <th>...</th>\n",
       "      <th>pixel775</th>\n",
       "      <th>pixel776</th>\n",
       "      <th>pixel777</th>\n",
       "      <th>pixel778</th>\n",
       "      <th>pixel779</th>\n",
       "      <th>pixel780</th>\n",
       "      <th>pixel781</th>\n",
       "      <th>pixel782</th>\n",
       "      <th>pixel783</th>\n",
       "      <th>pixel784</th>\n",
       "    </tr>\n",
       "  </thead>\n",
       "  <tbody>\n",
       "    <tr>\n",
       "      <th>0</th>\n",
       "      <td>2</td>\n",
       "      <td>0</td>\n",
       "      <td>0</td>\n",
       "      <td>0</td>\n",
       "      <td>0</td>\n",
       "      <td>0</td>\n",
       "      <td>0</td>\n",
       "      <td>0</td>\n",
       "      <td>0</td>\n",
       "      <td>0</td>\n",
       "      <td>...</td>\n",
       "      <td>0</td>\n",
       "      <td>0</td>\n",
       "      <td>0</td>\n",
       "      <td>0</td>\n",
       "      <td>0</td>\n",
       "      <td>0</td>\n",
       "      <td>0</td>\n",
       "      <td>0</td>\n",
       "      <td>0</td>\n",
       "      <td>0</td>\n",
       "    </tr>\n",
       "    <tr>\n",
       "      <th>1</th>\n",
       "      <td>9</td>\n",
       "      <td>0</td>\n",
       "      <td>0</td>\n",
       "      <td>0</td>\n",
       "      <td>0</td>\n",
       "      <td>0</td>\n",
       "      <td>0</td>\n",
       "      <td>0</td>\n",
       "      <td>0</td>\n",
       "      <td>0</td>\n",
       "      <td>...</td>\n",
       "      <td>0</td>\n",
       "      <td>0</td>\n",
       "      <td>0</td>\n",
       "      <td>0</td>\n",
       "      <td>0</td>\n",
       "      <td>0</td>\n",
       "      <td>0</td>\n",
       "      <td>0</td>\n",
       "      <td>0</td>\n",
       "      <td>0</td>\n",
       "    </tr>\n",
       "    <tr>\n",
       "      <th>2</th>\n",
       "      <td>6</td>\n",
       "      <td>0</td>\n",
       "      <td>0</td>\n",
       "      <td>0</td>\n",
       "      <td>0</td>\n",
       "      <td>0</td>\n",
       "      <td>0</td>\n",
       "      <td>0</td>\n",
       "      <td>5</td>\n",
       "      <td>0</td>\n",
       "      <td>...</td>\n",
       "      <td>0</td>\n",
       "      <td>0</td>\n",
       "      <td>0</td>\n",
       "      <td>30</td>\n",
       "      <td>43</td>\n",
       "      <td>0</td>\n",
       "      <td>0</td>\n",
       "      <td>0</td>\n",
       "      <td>0</td>\n",
       "      <td>0</td>\n",
       "    </tr>\n",
       "    <tr>\n",
       "      <th>3</th>\n",
       "      <td>0</td>\n",
       "      <td>0</td>\n",
       "      <td>0</td>\n",
       "      <td>0</td>\n",
       "      <td>1</td>\n",
       "      <td>2</td>\n",
       "      <td>0</td>\n",
       "      <td>0</td>\n",
       "      <td>0</td>\n",
       "      <td>0</td>\n",
       "      <td>...</td>\n",
       "      <td>3</td>\n",
       "      <td>0</td>\n",
       "      <td>0</td>\n",
       "      <td>0</td>\n",
       "      <td>0</td>\n",
       "      <td>1</td>\n",
       "      <td>0</td>\n",
       "      <td>0</td>\n",
       "      <td>0</td>\n",
       "      <td>0</td>\n",
       "    </tr>\n",
       "    <tr>\n",
       "      <th>4</th>\n",
       "      <td>3</td>\n",
       "      <td>0</td>\n",
       "      <td>0</td>\n",
       "      <td>0</td>\n",
       "      <td>0</td>\n",
       "      <td>0</td>\n",
       "      <td>0</td>\n",
       "      <td>0</td>\n",
       "      <td>0</td>\n",
       "      <td>0</td>\n",
       "      <td>...</td>\n",
       "      <td>0</td>\n",
       "      <td>0</td>\n",
       "      <td>0</td>\n",
       "      <td>0</td>\n",
       "      <td>0</td>\n",
       "      <td>0</td>\n",
       "      <td>0</td>\n",
       "      <td>0</td>\n",
       "      <td>0</td>\n",
       "      <td>0</td>\n",
       "    </tr>\n",
       "  </tbody>\n",
       "</table>\n",
       "<p>5 rows × 785 columns</p>\n",
       "</div>"
      ],
      "text/plain": [
       "   label  pixel1  pixel2  pixel3  pixel4  pixel5  pixel6  pixel7  pixel8  \\\n",
       "0      2       0       0       0       0       0       0       0       0   \n",
       "1      9       0       0       0       0       0       0       0       0   \n",
       "2      6       0       0       0       0       0       0       0       5   \n",
       "3      0       0       0       0       1       2       0       0       0   \n",
       "4      3       0       0       0       0       0       0       0       0   \n",
       "\n",
       "   pixel9  ...  pixel775  pixel776  pixel777  pixel778  pixel779  pixel780  \\\n",
       "0       0  ...         0         0         0         0         0         0   \n",
       "1       0  ...         0         0         0         0         0         0   \n",
       "2       0  ...         0         0         0        30        43         0   \n",
       "3       0  ...         3         0         0         0         0         1   \n",
       "4       0  ...         0         0         0         0         0         0   \n",
       "\n",
       "   pixel781  pixel782  pixel783  pixel784  \n",
       "0         0         0         0         0  \n",
       "1         0         0         0         0  \n",
       "2         0         0         0         0  \n",
       "3         0         0         0         0  \n",
       "4         0         0         0         0  \n",
       "\n",
       "[5 rows x 785 columns]"
      ]
     },
     "execution_count": 4,
     "metadata": {},
     "output_type": "execute_result"
    }
   ],
   "source": [
    "train.head()"
   ]
  },
  {
   "cell_type": "code",
   "execution_count": 5,
   "id": "4e92830d",
   "metadata": {},
   "outputs": [
    {
     "data": {
      "text/plain": [
       "10"
      ]
     },
     "execution_count": 5,
     "metadata": {},
     "output_type": "execute_result"
    }
   ],
   "source": [
    "train['label'].nunique()"
   ]
  },
  {
   "cell_type": "code",
   "execution_count": 6,
   "id": "2133c848",
   "metadata": {},
   "outputs": [
    {
     "data": {
      "text/html": [
       "<div>\n",
       "<style scoped>\n",
       "    .dataframe tbody tr th:only-of-type {\n",
       "        vertical-align: middle;\n",
       "    }\n",
       "\n",
       "    .dataframe tbody tr th {\n",
       "        vertical-align: top;\n",
       "    }\n",
       "\n",
       "    .dataframe thead th {\n",
       "        text-align: right;\n",
       "    }\n",
       "</style>\n",
       "<table border=\"1\" class=\"dataframe\">\n",
       "  <thead>\n",
       "    <tr style=\"text-align: right;\">\n",
       "      <th></th>\n",
       "      <th>label</th>\n",
       "      <th>pixel1</th>\n",
       "      <th>pixel2</th>\n",
       "      <th>pixel3</th>\n",
       "      <th>pixel4</th>\n",
       "      <th>pixel5</th>\n",
       "      <th>pixel6</th>\n",
       "      <th>pixel7</th>\n",
       "      <th>pixel8</th>\n",
       "      <th>pixel9</th>\n",
       "      <th>...</th>\n",
       "      <th>pixel775</th>\n",
       "      <th>pixel776</th>\n",
       "      <th>pixel777</th>\n",
       "      <th>pixel778</th>\n",
       "      <th>pixel779</th>\n",
       "      <th>pixel780</th>\n",
       "      <th>pixel781</th>\n",
       "      <th>pixel782</th>\n",
       "      <th>pixel783</th>\n",
       "      <th>pixel784</th>\n",
       "    </tr>\n",
       "  </thead>\n",
       "  <tbody>\n",
       "    <tr>\n",
       "      <th>0</th>\n",
       "      <td>0</td>\n",
       "      <td>0</td>\n",
       "      <td>0</td>\n",
       "      <td>0</td>\n",
       "      <td>0</td>\n",
       "      <td>0</td>\n",
       "      <td>0</td>\n",
       "      <td>0</td>\n",
       "      <td>9</td>\n",
       "      <td>8</td>\n",
       "      <td>...</td>\n",
       "      <td>103</td>\n",
       "      <td>87</td>\n",
       "      <td>56</td>\n",
       "      <td>0</td>\n",
       "      <td>0</td>\n",
       "      <td>0</td>\n",
       "      <td>0</td>\n",
       "      <td>0</td>\n",
       "      <td>0</td>\n",
       "      <td>0</td>\n",
       "    </tr>\n",
       "    <tr>\n",
       "      <th>1</th>\n",
       "      <td>1</td>\n",
       "      <td>0</td>\n",
       "      <td>0</td>\n",
       "      <td>0</td>\n",
       "      <td>0</td>\n",
       "      <td>0</td>\n",
       "      <td>0</td>\n",
       "      <td>0</td>\n",
       "      <td>0</td>\n",
       "      <td>0</td>\n",
       "      <td>...</td>\n",
       "      <td>34</td>\n",
       "      <td>0</td>\n",
       "      <td>0</td>\n",
       "      <td>0</td>\n",
       "      <td>0</td>\n",
       "      <td>0</td>\n",
       "      <td>0</td>\n",
       "      <td>0</td>\n",
       "      <td>0</td>\n",
       "      <td>0</td>\n",
       "    </tr>\n",
       "    <tr>\n",
       "      <th>2</th>\n",
       "      <td>2</td>\n",
       "      <td>0</td>\n",
       "      <td>0</td>\n",
       "      <td>0</td>\n",
       "      <td>0</td>\n",
       "      <td>0</td>\n",
       "      <td>0</td>\n",
       "      <td>14</td>\n",
       "      <td>53</td>\n",
       "      <td>99</td>\n",
       "      <td>...</td>\n",
       "      <td>0</td>\n",
       "      <td>0</td>\n",
       "      <td>0</td>\n",
       "      <td>0</td>\n",
       "      <td>63</td>\n",
       "      <td>53</td>\n",
       "      <td>31</td>\n",
       "      <td>0</td>\n",
       "      <td>0</td>\n",
       "      <td>0</td>\n",
       "    </tr>\n",
       "    <tr>\n",
       "      <th>3</th>\n",
       "      <td>2</td>\n",
       "      <td>0</td>\n",
       "      <td>0</td>\n",
       "      <td>0</td>\n",
       "      <td>0</td>\n",
       "      <td>0</td>\n",
       "      <td>0</td>\n",
       "      <td>0</td>\n",
       "      <td>0</td>\n",
       "      <td>0</td>\n",
       "      <td>...</td>\n",
       "      <td>137</td>\n",
       "      <td>126</td>\n",
       "      <td>140</td>\n",
       "      <td>0</td>\n",
       "      <td>133</td>\n",
       "      <td>224</td>\n",
       "      <td>222</td>\n",
       "      <td>56</td>\n",
       "      <td>0</td>\n",
       "      <td>0</td>\n",
       "    </tr>\n",
       "    <tr>\n",
       "      <th>4</th>\n",
       "      <td>3</td>\n",
       "      <td>0</td>\n",
       "      <td>0</td>\n",
       "      <td>0</td>\n",
       "      <td>0</td>\n",
       "      <td>0</td>\n",
       "      <td>0</td>\n",
       "      <td>0</td>\n",
       "      <td>0</td>\n",
       "      <td>0</td>\n",
       "      <td>...</td>\n",
       "      <td>0</td>\n",
       "      <td>0</td>\n",
       "      <td>0</td>\n",
       "      <td>0</td>\n",
       "      <td>0</td>\n",
       "      <td>0</td>\n",
       "      <td>0</td>\n",
       "      <td>0</td>\n",
       "      <td>0</td>\n",
       "      <td>0</td>\n",
       "    </tr>\n",
       "  </tbody>\n",
       "</table>\n",
       "<p>5 rows × 785 columns</p>\n",
       "</div>"
      ],
      "text/plain": [
       "   label  pixel1  pixel2  pixel3  pixel4  pixel5  pixel6  pixel7  pixel8  \\\n",
       "0      0       0       0       0       0       0       0       0       9   \n",
       "1      1       0       0       0       0       0       0       0       0   \n",
       "2      2       0       0       0       0       0       0      14      53   \n",
       "3      2       0       0       0       0       0       0       0       0   \n",
       "4      3       0       0       0       0       0       0       0       0   \n",
       "\n",
       "   pixel9  ...  pixel775  pixel776  pixel777  pixel778  pixel779  pixel780  \\\n",
       "0       8  ...       103        87        56         0         0         0   \n",
       "1       0  ...        34         0         0         0         0         0   \n",
       "2      99  ...         0         0         0         0        63        53   \n",
       "3       0  ...       137       126       140         0       133       224   \n",
       "4       0  ...         0         0         0         0         0         0   \n",
       "\n",
       "   pixel781  pixel782  pixel783  pixel784  \n",
       "0         0         0         0         0  \n",
       "1         0         0         0         0  \n",
       "2        31         0         0         0  \n",
       "3       222        56         0         0  \n",
       "4         0         0         0         0  \n",
       "\n",
       "[5 rows x 785 columns]"
      ]
     },
     "execution_count": 6,
     "metadata": {},
     "output_type": "execute_result"
    }
   ],
   "source": [
    "test.head()"
   ]
  },
  {
   "cell_type": "code",
   "execution_count": 7,
   "id": "35dc5b73",
   "metadata": {},
   "outputs": [],
   "source": [
    "X = train.iloc[:, 1:].values\n",
    "y = train.iloc[:, 0].values"
   ]
  },
  {
   "cell_type": "code",
   "execution_count": 8,
   "id": "3080cc1f",
   "metadata": {},
   "outputs": [
    {
     "data": {
      "text/plain": [
       "array([[0, 0, 0, ..., 0, 0, 0],\n",
       "       [0, 0, 0, ..., 0, 0, 0],\n",
       "       [0, 0, 0, ..., 0, 0, 0],\n",
       "       ...,\n",
       "       [0, 0, 0, ..., 0, 0, 0],\n",
       "       [0, 0, 0, ..., 0, 0, 0],\n",
       "       [0, 0, 0, ..., 0, 0, 0]], dtype=int64)"
      ]
     },
     "execution_count": 8,
     "metadata": {},
     "output_type": "execute_result"
    }
   ],
   "source": [
    "X"
   ]
  },
  {
   "cell_type": "code",
   "execution_count": 9,
   "id": "26c6d257",
   "metadata": {},
   "outputs": [
    {
     "data": {
      "image/png": "[encoded data removed]",
      "text/plain": [
       "<Figure size 1440x72 with 20 Axes>"
      ]
     },
     "metadata": {
      "needs_background": "light"
     },
     "output_type": "display_data"
    }
   ],
   "source": [
    "pltsize = 1\n",
    "plt.figure(figsize=(20 * pltsize, pltsize))\n",
    "for idx in range(0, 20):\n",
    "  plt.subplot(1, 20, idx + 1)\n",
    "  plt.axis('off')\n",
    "  plt.imshow(X[idx].reshape(28, 28), cmap='gray_r')\n",
    "  plt.title(f'Class : {y[idx]}')"
   ]
  },
  {
   "cell_type": "code",
   "execution_count": 10,
   "id": "dbb3b988",
   "metadata": {},
   "outputs": [],
   "source": [
    "X_test = test.iloc[:, 1:].values\n",
    "y_test = test.iloc[:, 0].values"
   ]
  },
  {
   "cell_type": "code",
   "execution_count": 11,
   "id": "9d06175b",
   "metadata": {},
   "outputs": [
    {
     "data": {
      "image/png": "[encoded data removed]",
      "text/plain": [
       "<Figure size 1440x72 with 20 Axes>"
      ]
     },
     "metadata": {
      "needs_background": "light"
     },
     "output_type": "display_data"
    }
   ],
   "source": [
    "pltsize = 1\n",
    "plt.figure(figsize=(20 * pltsize, pltsize))\n",
    "for idx in range(0, 20):\n",
    "  plt.subplot(1, 20, idx + 1)\n",
    "  plt.axis('off')\n",
    "  plt.imshow(X_test[idx].reshape(28, 28), cmap='gray_r')"
   ]
  },
  {
   "cell_type": "markdown",
   "id": "c2df1b99",
   "metadata": {},
   "source": [
    "### Train-Test Split"
   ]
  },
  {
   "cell_type": "code",
   "execution_count": 12,
   "id": "7b16076f",
   "metadata": {},
   "outputs": [],
   "source": [
    "from sklearn.model_selection import train_test_split\n",
    "\n",
    "X_train, X_val, y_train, y_val = train_test_split(X, y, test_size = 0.2, random_state = 16, stratify = y, shuffle = True)\n",
    "\n",
    "## Normalization\n",
    "X_train = X_train / 255.0\n",
    "X_val = X_val / 255.0\n",
    "X_test = X_test / 255.0\n",
    "\n",
    "X_train = torch.FloatTensor(X_train)\n",
    "y_train = torch.LongTensor(y_train)\n",
    "\n",
    "X_val = torch.FloatTensor(X_val)\n",
    "y_val = torch.LongTensor(y_val)\n",
    "\n",
    "X_test = torch.FloatTensor(X_test)"
   ]
  },
  {
   "cell_type": "code",
   "execution_count": 13,
   "id": "171b8eef",
   "metadata": {},
   "outputs": [
    {
     "name": "stdout",
     "output_type": "stream",
     "text": [
      "cpu\n"
     ]
    }
   ],
   "source": [
    "if torch.cuda.is_available():\n",
    "  DEVICE = torch.device('cuda')\n",
    "else:\n",
    "  DEVICE = torch.device('cpu')\n",
    "\n",
    "print(DEVICE)"
   ]
  },
  {
   "cell_type": "code",
   "execution_count": 14,
   "id": "31358efa",
   "metadata": {},
   "outputs": [],
   "source": [
    "#Batch Size는 조정 가능합니다.\n",
    "BATCH_SIZE = 128\n",
    "#Epoch는 고정해주세요.\n",
    "EPOCHS = 15"
   ]
  },
  {
   "cell_type": "code",
   "execution_count": 15,
   "id": "4edf60a0",
   "metadata": {},
   "outputs": [],
   "source": [
    "from torch.utils.data import Dataset\n",
    "from torch.utils.data import DataLoader\n",
    "\n",
    "class DataSet(Dataset):\n",
    "  def __init__(self, image, label = None):\n",
    "    super(DataSet, self).__init__()\n",
    "    self._image = image\n",
    "    self._label = label\n",
    "\n",
    "  def __len__(self):\n",
    "    return len(self._image)\n",
    "\n",
    "  def __getitem__(self, idx):\n",
    "    if self._label is None:\n",
    "      image = self._image[idx]\n",
    "      return image\n",
    "\n",
    "    else:\n",
    "      image = self._image[idx]\n",
    "      label = self._label[idx]\n",
    "\n",
    "      return image, label"
   ]
  },
  {
   "cell_type": "code",
   "execution_count": 16,
   "id": "86b71bfd",
   "metadata": {},
   "outputs": [],
   "source": [
    "train_dataset = DataSet(X_train, y_train)\n",
    "train_loader = DataLoader(train_dataset, batch_size = BATCH_SIZE, shuffle = True, drop_last = False)\n",
    "\n",
    "val_dataset = DataSet(X_val, y_val)\n",
    "val_loader = DataLoader(val_dataset, batch_size = BATCH_SIZE, shuffle = True, drop_last = False)\n",
    "\n",
    "test_dataset = DataSet(X_test)\n",
    "test_loader = DataLoader(test_dataset, batch_size = BATCH_SIZE, shuffle = False, drop_last = False)"
   ]
  },
  {
   "cell_type": "code",
   "execution_count": 17,
   "id": "6f7c828e",
   "metadata": {},
   "outputs": [],
   "source": [
    "def train(model, train_loader):\n",
    "  model.train()\n",
    "  train_loss = 0\n",
    "  correct = 0\n",
    "\n",
    "  for image, label in train_loader:\n",
    "    image = image.to(DEVICE)\n",
    "    label = label.to(DEVICE)\n",
    "    optimizer.zero_grad()\n",
    "    output = model(image)\n",
    "    loss = criterion(output, label)\n",
    "    loss.backward()\n",
    "    optimizer.step()\n",
    "\n",
    "    train_loss += loss.item()\n",
    "    prediction = output.max(1, keepdim = True)[1]\n",
    "    correct += prediction.eq(label.view_as(prediction)).sum().item()\n",
    "      \n",
    "  train_loss /= len(train_loader)\n",
    "  train_accuracy = 100. * correct / len(train_loader.dataset)\n",
    "  return train_loss, train_accuracy\n",
    "\n",
    "def evaluate(model, test_loader):\n",
    "  model.eval()\n",
    "  test_loss = 0\n",
    "  correct = 0\n",
    "\n",
    "  with torch.no_grad():\n",
    "    for image, label in test_loader:\n",
    "      image = image.to(DEVICE)\n",
    "      label = label.to(DEVICE)\n",
    "      output = model(image)\n",
    "      test_loss += criterion(output, label).item()\n",
    "      prediction = output.max(1, keepdim = True)[1]\n",
    "      correct += prediction.eq(label.view_as(prediction)).sum().item()\n",
    "\n",
    "  test_loss /= len(test_loader)\n",
    "  test_accuracy = 100. * correct / len(test_loader.dataset)\n",
    "  return test_loss, test_accuracy\n",
    "\n",
    "def pred(model, test_loader):\n",
    "  model.eval()\n",
    "  pred_li = []\n",
    "\n",
    "  with torch.no_grad():\n",
    "    for image in test_loader:\n",
    "      image = image.to(DEVICE)\n",
    "      output = model(image)\n",
    "      pred_li.append(output.cpu().numpy().argmax(axis=1))\n",
    "\n",
    "  return np.concatenate(pred_li)"
   ]
  },
  {
   "cell_type": "markdown",
   "id": "366e39b2",
   "metadata": {},
   "source": [
    "## 직접 Network를 설계하고, 성능을 시험해보자.\n",
    "\n",
    "### 참고: https://wikidocs.net/63618"
   ]
  },
  {
   "cell_type": "markdown",
   "id": "b9899806",
   "metadata": {},
   "source": [
    "nn.Linear(in_features, out_fearutes) : 선형 변환을 수행하는 신경망 레이어\n",
    "- 선형변환: 입력 데이터에 가중치와 편향을 적용하여 출력을 생성하는 연산\n",
    "- in_features : 입력 특서의 개수. 입력 데이터 차원 수와 같음\n",
    "- out_features : 출력 특성의 개수. 출력 데이터 차원 수와 같음"
   ]
  },
  {
   "cell_type": "code",
   "execution_count": 33,
   "id": "fed8fcfc",
   "metadata": {},
   "outputs": [],
   "source": [
    "class MyNet(nn.Module): # 파이토치의 nn.Module 클래스 상속받아 MyNet 정의\n",
    "    def __init__(self) -> None: # constructor\n",
    "        super(MyNet, self).__init__()\n",
    "        self.layers = nn.Sequential(\n",
    "            nn.Linear(784, 256), # 784 : 입력 데이터 784개\n",
    "            torch.nn.BatchNorm1d(256),\n",
    "            nn.LeakyReLU(negative_slope=0.01),\n",
    "            nn.Linear(256, 128),\n",
    "            torch.nn.BatchNorm1d(128),\n",
    "            nn.LeakyReLU(negative_slope=0.01),\n",
    "            nn.Linear(128, 10)\n",
    "        )\n",
    "# nn.Sequential : 여러 개의 레이어 순차적으로 나열\n",
    "        \n",
    "    def forward(self, x): # 모델의 순전파 정의 메서드\n",
    "        #여기에 Forward 함수 삽입: __init__에서 추가한 Layer에 순전파시킴\n",
    "        #Ex. x = self.layer1(x)\n",
    "        x =  self.layers(x)\n",
    "        return x\n",
    "    \n",
    "model = MyNet().to(DEVICE)\n",
    "optimizer = torch.optim.Adam(model.parameters(), lr=0.0001) \n",
    "# Adam(Adaptive Moment Estimation) optimizer 사용\n",
    "# lr: learning rate\n",
    "criterion = nn.CrossEntropyLoss() # 손실 함수"
   ]
  },
  {
   "cell_type": "code",
   "execution_count": 34,
   "id": "14b4c502",
   "metadata": {},
   "outputs": [
    {
     "name": "stdout",
     "output_type": "stream",
     "text": [
      "[EPOCH: 1], \tTrain Loss: 0.7951, \tTrain Accuracy: 77.80 %, \tVal Loss: 0.5239, \tVal Accuracy: 84.02 % \n",
      "\n",
      "[EPOCH: 2], \tTrain Loss: 0.4550, \tTrain Accuracy: 85.48 %, \tVal Loss: 0.4110, \tVal Accuracy: 86.62 % \n",
      "\n",
      "[EPOCH: 3], \tTrain Loss: 0.3760, \tTrain Accuracy: 87.42 %, \tVal Loss: 0.3761, \tVal Accuracy: 87.04 % \n",
      "\n",
      "[EPOCH: 4], \tTrain Loss: 0.3349, \tTrain Accuracy: 88.64 %, \tVal Loss: 0.3471, \tVal Accuracy: 87.67 % \n",
      "\n",
      "[EPOCH: 5], \tTrain Loss: 0.3047, \tTrain Accuracy: 89.41 %, \tVal Loss: 0.3512, \tVal Accuracy: 87.38 % \n",
      "\n",
      "[EPOCH: 6], \tTrain Loss: 0.2813, \tTrain Accuracy: 90.22 %, \tVal Loss: 0.3230, \tVal Accuracy: 88.53 % \n",
      "\n",
      "[EPOCH: 7], \tTrain Loss: 0.2597, \tTrain Accuracy: 90.88 %, \tVal Loss: 0.3147, \tVal Accuracy: 88.41 % \n",
      "\n",
      "[EPOCH: 8], \tTrain Loss: 0.2436, \tTrain Accuracy: 91.46 %, \tVal Loss: 0.3123, \tVal Accuracy: 88.72 % \n",
      "\n",
      "[EPOCH: 9], \tTrain Loss: 0.2273, \tTrain Accuracy: 91.99 %, \tVal Loss: 0.3039, \tVal Accuracy: 89.03 % \n",
      "\n",
      "[EPOCH: 10], \tTrain Loss: 0.2143, \tTrain Accuracy: 92.60 %, \tVal Loss: 0.3196, \tVal Accuracy: 88.33 % \n",
      "\n",
      "[EPOCH: 11], \tTrain Loss: 0.2007, \tTrain Accuracy: 93.04 %, \tVal Loss: 0.3163, \tVal Accuracy: 88.69 % \n",
      "\n",
      "[EPOCH: 12], \tTrain Loss: 0.1864, \tTrain Accuracy: 93.58 %, \tVal Loss: 0.3024, \tVal Accuracy: 88.82 % \n",
      "\n",
      "[EPOCH: 13], \tTrain Loss: 0.1759, \tTrain Accuracy: 93.97 %, \tVal Loss: 0.3137, \tVal Accuracy: 88.64 % \n",
      "\n",
      "[EPOCH: 14], \tTrain Loss: 0.1646, \tTrain Accuracy: 94.33 %, \tVal Loss: 0.3159, \tVal Accuracy: 88.62 % \n",
      "\n",
      "[EPOCH: 15], \tTrain Loss: 0.1560, \tTrain Accuracy: 94.71 %, \tVal Loss: 0.3272, \tVal Accuracy: 88.38 % \n",
      "\n"
     ]
    },
    {
     "data": {
      "image/png": "[encoded data removed]",
      "text/plain": [
       "<Figure size 1080x360 with 2 Axes>"
      ]
     },
     "metadata": {
      "needs_background": "light"
     },
     "output_type": "display_data"
    }
   ],
   "source": [
    "result_list = []\n",
    "for epoch in range(1, EPOCHS + 1):\n",
    "  train_loss, train_accuracy = train(model, train_loader)\n",
    "  val_loss, val_accuracy = evaluate(model, val_loader)\n",
    "  print(f\"[EPOCH: {epoch}], \\tTrain Loss: {train_loss:.4f}, \\tTrain Accuracy: {train_accuracy:.2f} %, \\tVal Loss: {val_loss:.4f}, \\tVal Accuracy: {val_accuracy:.2f} % \\n\")\n",
    "  result = {\n",
    "    'EPOCH': epoch,\n",
    "    'Train Loss': train_loss,\n",
    "    'Train Accuracy': train_accuracy,\n",
    "    'Val Loss': val_loss,\n",
    "    'Val Accuracy': val_accuracy}\n",
    "  \n",
    "  result_list.append(result)\n",
    "result_df = pd.DataFrame(result_list)\n",
    "\n",
    "fig, axes = plt.subplots(nrows=1, ncols=2, figsize=(15, 5))\n",
    "\n",
    "axes[0].plot(result_df['EPOCH'], result_df['Train Loss'], label='Train Loss')\n",
    "axes[0].plot(result_df['EPOCH'], result_df['Val Loss'], label='Val Loss')\n",
    "axes[0].set_ylim(0.0, 1)\n",
    "axes[0].legend()\n",
    "axes[0].set_title('Loss')\n",
    "\n",
    "axes[1].plot(result_df['EPOCH'], result_df['Train Accuracy'], label='Train Accuracy')\n",
    "axes[1].plot(result_df['EPOCH'], result_df['Val Accuracy'], label='Val Accuracy')\n",
    "axes[1].set_ylim(80, 100)\n",
    "axes[1].legend()\n",
    "axes[1].set_title('ACC')\n",
    "\n",
    "plt.show()"
   ]
  },
  {
   "cell_type": "markdown",
   "id": "72c7b416",
   "metadata": {},
   "source": [
    "## 결론을 작성해주세요:"
   ]
  },
  {
   "cell_type": "code",
   "execution_count": 35,
   "id": "e30ad53a",
   "metadata": {},
   "outputs": [
    {
     "data": {
      "text/plain": [
       "'\\n1. optimizer: Adam(lr=0.001)\\nAdam: RMSProp과 Momentum을 취합한 방법. 기존의 Gradient descent는 각 스텝마다 동일한 learning rate를 사용하는데 ADAM은 각 스텝마다 다른 learning rate를 사용함.\\n2. regularization: L2 Norm\\n3. initialization: LeakyReLU\\n4. Normalization : Batch Nomalization\\n\\n최종 EPOCH에서 Val accuracy는 88.38%로 나타남.\\n'"
      ]
     },
     "execution_count": 35,
     "metadata": {},
     "output_type": "execute_result"
    }
   ],
   "source": [
    "'''\n",
    "1. optimizer: Adam(lr=0.001)\n",
    "Adam: RMSProp과 Momentum을 취합한 방법. 기존의 Gradient descent는 각 스텝마다 동일한 learning rate를 사용하는데 ADAM은 각 스텝마다 다른 learning rate를 사용함.\n",
    "2. regularization: L2 Norm\n",
    "3. initialization: LeakyReLU\n",
    "4. Normalization : Batch Nomalization\n",
    "\n",
    "최종 EPOCH에서 Val accuracy는 88.38%로 나타남.\n",
    "'''"
   ]
  },
  {
   "cell_type": "code",
   "execution_count": null,
   "id": "471a4e02",
   "metadata": {},
   "outputs": [],
   "source": []
  }
 ],
 "metadata": {
  "kernelspec": {
   "display_name": "Python 3 (ipykernel)",
   "language": "python",
   "name": "python3"
  },
  "language_info": {
   "codemirror_mode": {
    "name": "ipython",
    "version": 3
   },
   "file_extension": ".py",
   "mimetype": "text/x-python",
   "name": "python",
   "nbconvert_exporter": "python",
   "pygments_lexer": "ipython3",
   "version": "3.9.12"
  },
  "vscode": {
   "interpreter": {
    "hash": "e593ac106456af50ce7af38f9671c411b49d6cd90f9b885e167f0f594e09038c"
   }
  }
 },
 "nbformat": 4,
 "nbformat_minor": 5
}
